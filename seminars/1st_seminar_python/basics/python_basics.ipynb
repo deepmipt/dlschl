{
 "cells": [
  {
   "cell_type": "markdown",
   "metadata": {},
   "source": [
    "# Школа глубокого обучения\n",
    "\n",
    "<a href=\"https://mipt.ru/science/labs/laboratoriya-neyronnykh-sistem-i-glubokogo-obucheniya/\"><img align=\"right\" src=\"https://avatars1.githubusercontent.com/u/29918795?v=4&s=200\" alt=\"DeepHackLab\" style=\"position:relative;top:-40px;right:10px;height:100px;\" /></a>\n",
    "\n",
    "\n",
    "\n",
    "### Физтех-Школа Прикладной математики и информатики МФТИ \n",
    "### Лаборатория нейронных сетей и глубокого обучения (DeepHackLab)"
   ]
  },
  {
   "cell_type": "markdown",
   "metadata": {},
   "source": [
    "## Занятие 1. Python и Jupyter Notebook"
   ]
  },
  {
   "cell_type": "markdown",
   "metadata": {},
   "source": [
    "*Захаркин Илья (ФИВТ 3 курс)*"
   ]
  },
  {
   "cell_type": "markdown",
   "metadata": {},
   "source": [
    "<img align=left src=\"https://cdn.fedoramagazine.org/wp-content/uploads/2015/11/Python_logo.png\" style=\"height:160px;\" />\n",
    "\n",
    "<img align=center src=\"https://1.bp.blogspot.com/-16utHnlB3Ao/V4tpG8NBX0I/AAAAAAAAA7M/vDQ1p40JpE8M34eCr-UdriSV04Dn8au7QCLcB/s1600/jupyter-logo.png\" style=\"height:90px;\" />"
   ]
  },
  {
   "cell_type": "markdown",
   "metadata": {},
   "source": [
    "---"
   ]
  },
  {
   "cell_type": "markdown",
   "metadata": {},
   "source": [
    "**Приветствуем Вас в Школе Глубокого Обучения от Физтех-Школы ПМИ МФТИ!**  \n",
    "\n",
    "Перед тем как начать складывать уровни нейросеточек как блинчики, нужно быть хорошо знакомым с библиотеками глубокого обучения и языком, на котором они написаны. \n",
    "В нашем курсе мы будем использовать язык **Python**, так как он является оптимальным сочетанием простоты, силы и количества библиотек глубокого обучения, написанных для него. "
   ]
  },
  {
   "cell_type": "markdown",
   "metadata": {},
   "source": [
    "На этом занятии мы научимся:  \n",
    "\n",
    "- Установить интерактивную среду разработки на Python - Jupyter Notebook и разобраться, как в ней работать\n",
    "- Установить сам Python\n",
    "- Научиться (или освежить память) писать программы на Python, изучив его основы\n",
    "- Научиться писать производительный код с помощью библиотеки NumPy\n",
    "- Научиться строить графики с помощью библиотеки Matplotlib"
   ]
  },
  {
   "cell_type": "markdown",
   "metadata": {},
   "source": [
    "## Установка Jupyter\n",
    "\n",
    "Инструкция по установке Jupyter Notebook: http://jupyter.readthedocs.org/en/latest/install.html\n",
    "\n",
    "После установки запуск осуществляется командой в консоли:  \n",
    "\n",
    "`jupyter notebook`\n",
    "\n",
    "Через несколько секунд должна открыться страница в браузере со списком файлов директории, в котороый была запущена команда (можно не ждать и самим перейти по http://localhost:8888/ - обычно там располагается локальный \"сервер\" Jupyter Notebook`а)."
   ]
  },
  {
   "cell_type": "markdown",
   "metadata": {},
   "source": [
    "## Онлайн Jupyter Notebook\n",
    "\n",
    "Можно ничего не устанавливать и работать с сайтом https://try.jupyter.org/\n",
    "\n",
    "На сайте можно создать новый файл `(New -> Python 2/3)` или загрузить файл с компьютера с помощью `Upload`.\n",
    "\n",
    "Будьте внимательны!\n",
    "<b>Сайт не сохраняет ваши файлы</b> и удаляет их после закрытия страницы.\n",
    "Чтобы загрузить файл себе откройте его нажмите `File -> Download as -> ipynb`.\n",
    "\n",
    "Можно так же пользоваться сайтом https://cloud.sagemath.com/."
   ]
  },
  {
   "cell_type": "markdown",
   "metadata": {},
   "source": [
    "# Работа с Python в Jupyter Notebook\n",
    "\n",
    "Чтобы создать новый файл, кликните New -> Python.\n",
    "\n",
    "Ноутбук состоит из ячеек (cells), которые бывают текстовыми (Markdown) и кодовыми (Code).\n",
    "Выбрать тип ячейки можно на панели управления.\n",
    "\n",
    "Работа с ячейками:\n",
    "<ul>\n",
    "    <li> Выбор ячейки — нажмите на нее мышкой.</li>\n",
    "    <li> Редактирование — нажмите на нее два раза.</li>\n",
    "    <li> Запуск ячейки — `SHIFT+ENTER` или нажмите на кнопку <button class='fa fa-play icon-play btn btn-xs btn-default'></button> на панеле.</li>\n",
    "    <li> Добавление новой ячейки — нажмите на кнопку <button class='fa fa-plus icon-plus btn btn-xs btn-default'></button> на панеле.</li>\n",
    "    <li> Удаление ячейки — нажмите на кнопку <button class='fa fa-cut icon-cut btn btn-xs btn-default'></button> на панеле.</li>\n",
    "    <li> Перемещение ячейки — нажмите на вертикальные стрелки.</li>\n",
    "</ul>"
   ]
  },
  {
   "cell_type": "markdown",
   "metadata": {},
   "source": [
    "Текстовые ячейки содержат в себе обычный текст, который может включать в себя формулы $\\LaTeX$ и `html`-команды:  \n",
    "\n",
    "$$f(x) = \\frac{1}{x}$$  \n",
    "\n",
    "$\\LaTeX$ cheat sheet -  https://wch.github.io/latexsheet/"
   ]
  },
  {
   "cell_type": "markdown",
   "metadata": {},
   "source": [
    "## Основы Python"
   ]
  },
  {
   "cell_type": "markdown",
   "metadata": {},
   "source": [
    "Сейчас существуют две часто используемые версии Питона — **Python 2** и **Python 3**. Эти версии довольно похожи, но есть отличия, из-за которых они **не являются совместимыми** - программы, написанные на одной версии языка, могут не работать в другой.  \n",
    "\n",
    "В нашем курсе мы будем писать на **Python 3**. Точная версия не принципиальна, но она должна быть >= 3.5  \n",
    "\n",
    "Если Вы пользуетесь каким-либо из дистрибутивов Linux, то Python скорее всего уже установлен.\n",
    "Попробуйте в терминале следующие команды для запуска интерактивного режима работы:\n",
    "\n",
    "`python` или `python3` или `python2`\n",
    "\n",
    "Выход: `Ctrl+D`\n",
    "\n",
    "Режим работы, в котором выполнится код из файла main.py\n",
    "\n",
    "`python main.py`\n",
    "\n",
    "Помощь: **`help(X)`**, где `X` — то, по чему нужна помощь.  \n",
    "Выход из помощи: `q`."
   ]
  },
  {
   "cell_type": "markdown",
   "metadata": {},
   "source": [
    "<img align=center src=\"http://images7.memedroid.com/images/UPLOADED973/596e4c96650e5.jpeg\" style=\"height:400px;\"/>"
   ]
  },
  {
   "cell_type": "markdown",
   "metadata": {},
   "source": [
    "## Общая информация о языке\n",
    "\n",
    "**Название** - **«Питон» или «Пайтон»** (в честь комедийных серий BBC «Летающий цирк Монти-Пайтона»)  \n",
    "**Создатель** - **голландец Гвидо ван Россум (Guido van Rossum)** (в 1991 году)  \n",
    "\n",
    "**Особенности**:  \n",
    "- интерпретируемый\n",
    "- объектно-ориентированный\n",
    "- высокоуровневый язык\n",
    "- встроенные высокоуровневые структуры данных\n",
    "- динамическая типизация\n",
    "- синтаксис прост в изучении\n",
    "- поддержка модулей и пакетов (большинство библиотек\n",
    "бесплатны)\n",
    "- универсальный\n",
    "- интеграция с другими языками (C (Cython), C++, Java (JPython))  \n",
    "\n",
    "**Стиль оформления кода** - **PEP8** (если Вы хороший человек).  \n",
    "\n",
    "*Самое главное из PEP8:*  \n",
    "- отступ – 4 пробела\n",
    "- длина строки < 80 символов\n",
    "- переменные: var_recommended\n",
    "- константы: CONST_RECOMMENDED"
   ]
  },
  {
   "cell_type": "code",
   "execution_count": 1,
   "metadata": {},
   "outputs": [
    {
     "name": "stdout",
     "output_type": "stream",
     "text": [
      "The Zen of Python, by Tim Peters\n",
      "\n",
      "Beautiful is better than ugly.\n",
      "Explicit is better than implicit.\n",
      "Simple is better than complex.\n",
      "Complex is better than complicated.\n",
      "Flat is better than nested.\n",
      "Sparse is better than dense.\n",
      "Readability counts.\n",
      "Special cases aren't special enough to break the rules.\n",
      "Although practicality beats purity.\n",
      "Errors should never pass silently.\n",
      "Unless explicitly silenced.\n",
      "In the face of ambiguity, refuse the temptation to guess.\n",
      "There should be one-- and preferably only one --obvious way to do it.\n",
      "Although that way may not be obvious at first unless you're Dutch.\n",
      "Now is better than never.\n",
      "Although never is often better than *right* now.\n",
      "If the implementation is hard to explain, it's a bad idea.\n",
      "If the implementation is easy to explain, it may be a good idea.\n",
      "Namespaces are one honking great idea -- let's do more of those!\n"
     ]
    }
   ],
   "source": [
    "import this"
   ]
  },
  {
   "cell_type": "markdown",
   "metadata": {},
   "source": [
    "## Типы"
   ]
  },
  {
   "cell_type": "markdown",
   "metadata": {},
   "source": [
    "**Все типы данных** в Python относятся к одной из **2-х категорий**: **изменяемые (mutable)** и **неизменяемые (unmutable)**.   \n",
    "\n",
    "*Неизменяемые объекты*:  \n",
    "* числовые данные (int, float), \n",
    "* bool,\n",
    "* None,\n",
    "* символьные строки (class 'str'), \n",
    "* кортежи (tuple).  \n",
    "\n",
    "*Изменяемые объекты*:  \n",
    "* списки (list), \n",
    "* множества (set), \n",
    "* словари (dict).  \n",
    "\n",
    "Вновь определяемые пользователем типы (классы) могут быть определены как неизменяемые или изменяемые. Изменяемость объектов определённого типа является принципиально важной характеристикой, определяющей, может ли объект такого типа **выступать в качестве ключа для словарей (dict)** или нет."
   ]
  },
  {
   "cell_type": "markdown",
   "metadata": {},
   "source": [
    "### int"
   ]
  },
  {
   "cell_type": "code",
   "execution_count": 2,
   "metadata": {},
   "outputs": [
    {
     "name": "stdout",
     "output_type": "stream",
     "text": [
      "5 | <class 'int'>\n"
     ]
    }
   ],
   "source": [
    "x = 5\n",
    "\n",
    "print(x, '|', type(x))"
   ]
  },
  {
   "cell_type": "code",
   "execution_count": 3,
   "metadata": {},
   "outputs": [
    {
     "name": "stdout",
     "output_type": "stream",
     "text": [
      "9 20 1\n"
     ]
    }
   ],
   "source": [
    "a = 4 + 5\n",
    "b = 4 * 5\n",
    "c = 5 // 4\n",
    "\n",
    "print(a, b, c)"
   ]
  },
  {
   "cell_type": "code",
   "execution_count": 4,
   "metadata": {},
   "outputs": [
    {
     "name": "stdout",
     "output_type": "stream",
     "text": [
      "-1\n"
     ]
    }
   ],
   "source": [
    "print( -(5 // 4) )"
   ]
  },
  {
   "cell_type": "code",
   "execution_count": 5,
   "metadata": {},
   "outputs": [
    {
     "name": "stdout",
     "output_type": "stream",
     "text": [
      "-2\n"
     ]
    }
   ],
   "source": [
    "print( -5 // 4 )"
   ]
  },
  {
   "cell_type": "code",
   "execution_count": 6,
   "metadata": {},
   "outputs": [
    {
     "name": "stdout",
     "output_type": "stream",
     "text": [
      "5000000000000000000000000001 | <class 'int'>\n"
     ]
    }
   ],
   "source": [
    "x = 5 * 1000000000 * 1000000000 * 10**9 + 1\n",
    "print(x, '|', type(x))"
   ]
  },
  {
   "cell_type": "markdown",
   "metadata": {},
   "source": [
    "### float"
   ]
  },
  {
   "cell_type": "code",
   "execution_count": 7,
   "metadata": {},
   "outputs": [
    {
     "name": "stdout",
     "output_type": "stream",
     "text": [
      "12.345 <class 'float'>\n"
     ]
    }
   ],
   "source": [
    "y = 12.345\n",
    "\n",
    "print(y, type(y))"
   ]
  },
  {
   "cell_type": "code",
   "execution_count": 8,
   "metadata": {},
   "outputs": [
    {
     "name": "stdout",
     "output_type": "stream",
     "text": [
      "9.3 21.419999999999998 1.25\n"
     ]
    }
   ],
   "source": [
    "a = 4.2 + 5.1\n",
    "b = 4.2 * 5.1\n",
    "c = 5.0 / 4.0\n",
    "\n",
    "print(a, b, c)"
   ]
  },
  {
   "cell_type": "code",
   "execution_count": 9,
   "metadata": {},
   "outputs": [
    {
     "name": "stdout",
     "output_type": "stream",
     "text": [
      "1.25\n"
     ]
    }
   ],
   "source": [
    "a = 5\n",
    "b = 4\n",
    "print(float(a) / float(b))"
   ]
  },
  {
   "cell_type": "code",
   "execution_count": 10,
   "metadata": {},
   "outputs": [
    {
     "name": "stdout",
     "output_type": "stream",
     "text": [
      "1.25\n"
     ]
    }
   ],
   "source": [
    "print(a / b)"
   ]
  },
  {
   "cell_type": "markdown",
   "metadata": {},
   "source": [
    "### bool"
   ]
  },
  {
   "cell_type": "code",
   "execution_count": 11,
   "metadata": {},
   "outputs": [
    {
     "name": "stdout",
     "output_type": "stream",
     "text": [
      "True | <class 'bool'>\n",
      "False | <class 'bool'>\n"
     ]
    }
   ],
   "source": [
    "a = True\n",
    "b = False\n",
    "\n",
    "print(a, '|', type(a))\n",
    "\n",
    "print(b, '|', type(b))"
   ]
  },
  {
   "cell_type": "code",
   "execution_count": 12,
   "metadata": {},
   "outputs": [
    {
     "name": "stdout",
     "output_type": "stream",
     "text": [
      "1\n",
      "2\n",
      "0\n"
     ]
    }
   ],
   "source": [
    "print(a + b)\n",
    "print(a + a)\n",
    "print(b + b)"
   ]
  },
  {
   "cell_type": "code",
   "execution_count": 13,
   "metadata": {},
   "outputs": [
    {
     "name": "stdout",
     "output_type": "stream",
     "text": [
      "1 0\n"
     ]
    }
   ],
   "source": [
    "print(int(a), int(b))"
   ]
  },
  {
   "cell_type": "code",
   "execution_count": 14,
   "metadata": {},
   "outputs": [
    {
     "name": "stdout",
     "output_type": "stream",
     "text": [
      "False \n",
      "\n",
      "True \n",
      "\n",
      "True \n",
      "\n"
     ]
    }
   ],
   "source": [
    "print(True and False, '\\n')\n",
    "\n",
    "print(True or True, '\\n')\n",
    "\n",
    "print(not False, '\\n')"
   ]
  },
  {
   "cell_type": "markdown",
   "metadata": {},
   "source": [
    "### None"
   ]
  },
  {
   "cell_type": "code",
   "execution_count": 15,
   "metadata": {},
   "outputs": [
    {
     "name": "stdout",
     "output_type": "stream",
     "text": [
      "None | <class 'NoneType'>\n"
     ]
    }
   ],
   "source": [
    "z = None\n",
    "print(z, '|', type(z))"
   ]
  },
  {
   "cell_type": "code",
   "execution_count": 16,
   "metadata": {},
   "outputs": [
    {
     "ename": "TypeError",
     "evalue": "int() argument must be a string, a bytes-like object or a number, not 'NoneType'",
     "output_type": "error",
     "traceback": [
      "\u001b[1;31m---------------------------------------------------------------------------\u001b[0m",
      "\u001b[1;31mTypeError\u001b[0m                                 Traceback (most recent call last)",
      "\u001b[1;32m<ipython-input-16-08f106455b6f>\u001b[0m in \u001b[0;36m<module>\u001b[1;34m()\u001b[0m\n\u001b[1;32m----> 1\u001b[1;33m \u001b[0mint\u001b[0m\u001b[1;33m(\u001b[0m\u001b[0mz\u001b[0m\u001b[1;33m)\u001b[0m\u001b[1;33m\u001b[0m\u001b[0m\n\u001b[0m",
      "\u001b[1;31mTypeError\u001b[0m: int() argument must be a string, a bytes-like object or a number, not 'NoneType'"
     ]
    }
   ],
   "source": [
    "int(z)"
   ]
  },
  {
   "cell_type": "code",
   "execution_count": 17,
   "metadata": {},
   "outputs": [
    {
     "data": {
      "text/plain": [
       "'I am None!'"
      ]
     },
     "execution_count": 17,
     "metadata": {},
     "output_type": "execute_result"
    }
   ],
   "source": [
    "if z is None:\n",
    "    z = 'I am None!'\n",
    "z"
   ]
  },
  {
   "cell_type": "markdown",
   "metadata": {},
   "source": [
    "### str"
   ]
  },
  {
   "cell_type": "markdown",
   "metadata": {},
   "source": [
    "В *python2.7* есть отдельный тип **unicode**. В *python3.5 (и выше)* (который будем использовать мы) всё это включено в тип **str**."
   ]
  },
  {
   "cell_type": "code",
   "execution_count": 18,
   "metadata": {},
   "outputs": [
    {
     "name": "stdout",
     "output_type": "stream",
     "text": [
      "abc | <class 'str'>\n",
      "xyz | <class 'str'>\n"
     ]
    }
   ],
   "source": [
    "x = \"abc\"\n",
    "y = 'xyz'\n",
    "print(x, '|', type(x))\n",
    "print(y, '|', type(y))"
   ]
  },
  {
   "cell_type": "code",
   "execution_count": 19,
   "metadata": {},
   "outputs": [
    {
     "name": "stdout",
     "output_type": "stream",
     "text": [
      "Андрей Михайлович\n"
     ]
    }
   ],
   "source": [
    "a = 'Андрей'\n",
    "b = \"Михайлович\"\n",
    "s = a + \" \" + b\n",
    "print(s)"
   ]
  },
  {
   "cell_type": "code",
   "execution_count": 20,
   "metadata": {},
   "outputs": [
    {
     "name": "stdout",
     "output_type": "stream",
     "text": [
      "АНДРЕЙ\n",
      "андрей\n"
     ]
    }
   ],
   "source": [
    "print(a.upper())\n",
    "print(a.lower())"
   ]
  },
  {
   "cell_type": "code",
   "execution_count": 21,
   "metadata": {},
   "outputs": [
    {
     "name": "stdout",
     "output_type": "stream",
     "text": [
      "6\n"
     ]
    }
   ],
   "source": [
    "print(len(a))"
   ]
  },
  {
   "cell_type": "code",
   "execution_count": 22,
   "metadata": {},
   "outputs": [
    {
     "name": "stdout",
     "output_type": "stream",
     "text": [
      "True\n",
      "False\n"
     ]
    }
   ],
   "source": [
    "print(bool(a))\n",
    "print(bool(\"\" + ''))"
   ]
  },
  {
   "cell_type": "code",
   "execution_count": 23,
   "metadata": {},
   "outputs": [
    {
     "name": "stdout",
     "output_type": "stream",
     "text": [
      "Андрей\n",
      "А\n",
      "н\n",
      "Анд\n"
     ]
    }
   ],
   "source": [
    "print(a)\n",
    "print(a[0])\n",
    "print(a[1])\n",
    "print(a[0:3])"
   ]
  },
  {
   "cell_type": "code",
   "execution_count": 24,
   "metadata": {},
   "outputs": [
    {
     "name": "stdout",
     "output_type": "stream",
     "text": [
      "Ад\n"
     ]
    }
   ],
   "source": [
    "print(a[0:4:2])"
   ]
  },
  {
   "cell_type": "code",
   "execution_count": 25,
   "metadata": {},
   "outputs": [
    {
     "name": "stdout",
     "output_type": "stream",
     "text": [
      "Роберт Дауни Младший <class 'str'>\n",
      "b'\\xd0\\xa0\\xd0\\xbe\\xd0\\xb1\\xd0\\xb5\\xd1\\x80\\xd1\\x82 \\xd0\\x94\\xd0\\xb0\\xd1\\x83\\xd0\\xbd\\xd0\\xb8 \\xd0\\x9c\\xd0\\xbb\\xd0\\xb0\\xd0\\xb4\\xd1\\x88\\xd0\\xb8\\xd0\\xb9' <class 'bytes'>\n",
      "Роберт Дауни Младший <class 'str'>\n",
      "Р РѕР±РµСЂС‚ Р”Р°СѓРЅРё РњР»Р°РґС€РёР№ <class 'str'>\n"
     ]
    }
   ],
   "source": [
    "x = 'Роберт Дауни Младший'\n",
    "print(x, type(x))\n",
    "y = x.encode('utf-8')\n",
    "print(y, type(y))\n",
    "z = y.decode('utf-8')\n",
    "print(z, type(z))\n",
    "q = y.decode('cp1251')\n",
    "print(q, type(q))"
   ]
  },
  {
   "cell_type": "markdown",
   "metadata": {},
   "source": [
    "### Метод `split()`:"
   ]
  },
  {
   "cell_type": "code",
   "execution_count": 26,
   "metadata": {},
   "outputs": [
    {
     "name": "stdout",
     "output_type": "stream",
     "text": [
      "['Райгородский', 'Андрей', 'Михайлович']\n"
     ]
    }
   ],
   "source": [
    "splitted_line = \"Райгородский Андрей Михайлович\".split(' ')\n",
    "print(splitted_line)"
   ]
  },
  {
   "cell_type": "markdown",
   "metadata": {},
   "source": [
    "### tuple"
   ]
  },
  {
   "cell_type": "code",
   "execution_count": 27,
   "metadata": {},
   "outputs": [
    {
     "data": {
      "text/plain": [
       "('a', 5, 12.345)"
      ]
     },
     "execution_count": 27,
     "metadata": {},
     "output_type": "execute_result"
    }
   ],
   "source": [
    "t = ('a', 5, 12.345)\n",
    "t"
   ]
  },
  {
   "cell_type": "code",
   "execution_count": 28,
   "metadata": {},
   "outputs": [
    {
     "ename": "AttributeError",
     "evalue": "'tuple' object has no attribute 'append'",
     "output_type": "error",
     "traceback": [
      "\u001b[1;31m---------------------------------------------------------------------------\u001b[0m",
      "\u001b[1;31mAttributeError\u001b[0m                            Traceback (most recent call last)",
      "\u001b[1;32m<ipython-input-28-9262fbb92a36>\u001b[0m in \u001b[0;36m<module>\u001b[1;34m()\u001b[0m\n\u001b[1;32m----> 1\u001b[1;33m \u001b[0mt\u001b[0m\u001b[1;33m.\u001b[0m\u001b[0mappend\u001b[0m\u001b[1;33m(\u001b[0m\u001b[1;36m5\u001b[0m\u001b[1;33m)\u001b[0m\u001b[1;33m\u001b[0m\u001b[0m\n\u001b[0m",
      "\u001b[1;31mAttributeError\u001b[0m: 'tuple' object has no attribute 'append'"
     ]
    }
   ],
   "source": [
    "t.append(5)"
   ]
  },
  {
   "cell_type": "code",
   "execution_count": 29,
   "metadata": {},
   "outputs": [
    {
     "data": {
      "text/plain": [
       "['__add__',\n",
       " '__class__',\n",
       " '__contains__',\n",
       " '__delattr__',\n",
       " '__dir__',\n",
       " '__doc__',\n",
       " '__eq__',\n",
       " '__format__',\n",
       " '__ge__',\n",
       " '__getattribute__',\n",
       " '__getitem__',\n",
       " '__getnewargs__',\n",
       " '__gt__',\n",
       " '__hash__',\n",
       " '__init__',\n",
       " '__init_subclass__',\n",
       " '__iter__',\n",
       " '__le__',\n",
       " '__len__',\n",
       " '__lt__',\n",
       " '__mul__',\n",
       " '__ne__',\n",
       " '__new__',\n",
       " '__reduce__',\n",
       " '__reduce_ex__',\n",
       " '__repr__',\n",
       " '__rmul__',\n",
       " '__setattr__',\n",
       " '__sizeof__',\n",
       " '__str__',\n",
       " '__subclasshook__',\n",
       " 'count',\n",
       " 'index']"
      ]
     },
     "execution_count": 29,
     "metadata": {},
     "output_type": "execute_result"
    }
   ],
   "source": [
    "dir(t)"
   ]
  },
  {
   "cell_type": "code",
   "execution_count": 30,
   "metadata": {},
   "outputs": [
    {
     "data": {
      "text/plain": [
       "0"
      ]
     },
     "execution_count": 30,
     "metadata": {},
     "output_type": "execute_result"
    }
   ],
   "source": [
    "t.index('a')"
   ]
  },
  {
   "cell_type": "code",
   "execution_count": 31,
   "metadata": {},
   "outputs": [
    {
     "data": {
      "text/plain": [
       "12.345"
      ]
     },
     "execution_count": 31,
     "metadata": {},
     "output_type": "execute_result"
    }
   ],
   "source": [
    "t[2]"
   ]
  },
  {
   "cell_type": "code",
   "execution_count": 32,
   "metadata": {},
   "outputs": [
    {
     "data": {
      "text/plain": [
       "('a', 5, 12.345, 1, 2, 3)"
      ]
     },
     "execution_count": 32,
     "metadata": {},
     "output_type": "execute_result"
    }
   ],
   "source": [
    "m = (1, 2, 3)\n",
    "\n",
    "t + m"
   ]
  },
  {
   "cell_type": "code",
   "execution_count": 33,
   "metadata": {},
   "outputs": [
    {
     "ename": "TypeError",
     "evalue": "unsupported operand type(s) for -: 'tuple' and 'tuple'",
     "output_type": "error",
     "traceback": [
      "\u001b[1;31m---------------------------------------------------------------------------\u001b[0m",
      "\u001b[1;31mTypeError\u001b[0m                                 Traceback (most recent call last)",
      "\u001b[1;32m<ipython-input-33-19ba77f92292>\u001b[0m in \u001b[0;36m<module>\u001b[1;34m()\u001b[0m\n\u001b[1;32m----> 1\u001b[1;33m \u001b[0mt\u001b[0m \u001b[1;33m-\u001b[0m \u001b[0mm\u001b[0m\u001b[1;33m\u001b[0m\u001b[0m\n\u001b[0m",
      "\u001b[1;31mTypeError\u001b[0m: unsupported operand type(s) for -: 'tuple' and 'tuple'"
     ]
    }
   ],
   "source": [
    "t - m"
   ]
  },
  {
   "cell_type": "code",
   "execution_count": 34,
   "metadata": {},
   "outputs": [
    {
     "data": {
      "text/plain": [
       "3"
      ]
     },
     "execution_count": 34,
     "metadata": {},
     "output_type": "execute_result"
    }
   ],
   "source": [
    "len(m)"
   ]
  },
  {
   "cell_type": "markdown",
   "metadata": {},
   "source": [
    "#### Поменять переменные местами"
   ]
  },
  {
   "cell_type": "code",
   "execution_count": 35,
   "metadata": {},
   "outputs": [
    {
     "name": "stdout",
     "output_type": "stream",
     "text": [
      "a: 100 \n",
      "b: -5\n"
     ]
    }
   ],
   "source": [
    "a = -5\n",
    "b = 100\n",
    "\n",
    "a, b = b, a\n",
    "\n",
    "print('a:', a, '\\nb:', b)"
   ]
  },
  {
   "cell_type": "markdown",
   "metadata": {},
   "source": [
    "### Немного про встроенные функции"
   ]
  },
  {
   "cell_type": "markdown",
   "metadata": {},
   "source": [
    "В Python есть так называем **магические** (или служебные) методы - они начинаются и заканчиваются на двойное нижнее подчёркивание: \\__len\\__, \\__add\\__ ..."
   ]
  },
  {
   "cell_type": "code",
   "execution_count": 36,
   "metadata": {},
   "outputs": [
    {
     "data": {
      "text/plain": [
       "<module 'builtins' (built-in)>"
      ]
     },
     "execution_count": 36,
     "metadata": {},
     "output_type": "execute_result"
    }
   ],
   "source": [
    "__builtin__"
   ]
  },
  {
   "cell_type": "markdown",
   "metadata": {},
   "source": [
    "Также в Python есть **встроенные** функции и методы, которые являются в некотором смысле универсальными.  \n",
    "Функция `dir()` выводит список всех атрибутов (имён - методы, функции, классы..), которые есть у модуля/класса/объекта:"
   ]
  },
  {
   "cell_type": "markdown",
   "metadata": {},
   "source": [
    "Давайте посмотрим на встроенные и служебные имена Python (не все):"
   ]
  },
  {
   "cell_type": "code",
   "execution_count": 37,
   "metadata": {
    "scrolled": true
   },
   "outputs": [
    {
     "data": {
      "text/plain": [
       "['ArithmeticError',\n",
       " 'AssertionError',\n",
       " 'AttributeError',\n",
       " 'BaseException',\n",
       " 'BlockingIOError',\n",
       " 'BrokenPipeError',\n",
       " 'BufferError',\n",
       " 'BytesWarning',\n",
       " 'ChildProcessError',\n",
       " 'ConnectionAbortedError',\n",
       " 'ConnectionError',\n",
       " 'ConnectionRefusedError',\n",
       " 'ConnectionResetError',\n",
       " 'DeprecationWarning',\n",
       " 'EOFError',\n",
       " 'Ellipsis',\n",
       " 'EnvironmentError',\n",
       " 'Exception',\n",
       " 'False',\n",
       " 'FileExistsError',\n",
       " 'FileNotFoundError',\n",
       " 'FloatingPointError',\n",
       " 'FutureWarning',\n",
       " 'GeneratorExit',\n",
       " 'IOError',\n",
       " 'ImportError',\n",
       " 'ImportWarning',\n",
       " 'IndentationError',\n",
       " 'IndexError',\n",
       " 'InterruptedError',\n",
       " 'IsADirectoryError',\n",
       " 'KeyError',\n",
       " 'KeyboardInterrupt',\n",
       " 'LookupError',\n",
       " 'MemoryError',\n",
       " 'ModuleNotFoundError',\n",
       " 'NameError',\n",
       " 'None',\n",
       " 'NotADirectoryError',\n",
       " 'NotImplemented',\n",
       " 'NotImplementedError',\n",
       " 'OSError',\n",
       " 'OverflowError',\n",
       " 'PendingDeprecationWarning',\n",
       " 'PermissionError',\n",
       " 'ProcessLookupError',\n",
       " 'RecursionError',\n",
       " 'ReferenceError',\n",
       " 'ResourceWarning',\n",
       " 'RuntimeError',\n",
       " 'RuntimeWarning',\n",
       " 'StopAsyncIteration',\n",
       " 'StopIteration',\n",
       " 'SyntaxError',\n",
       " 'SyntaxWarning',\n",
       " 'SystemError',\n",
       " 'SystemExit',\n",
       " 'TabError',\n",
       " 'TimeoutError',\n",
       " 'True',\n",
       " 'TypeError',\n",
       " 'UnboundLocalError',\n",
       " 'UnicodeDecodeError',\n",
       " 'UnicodeEncodeError',\n",
       " 'UnicodeError',\n",
       " 'UnicodeTranslateError',\n",
       " 'UnicodeWarning',\n",
       " 'UserWarning',\n",
       " 'ValueError',\n",
       " 'Warning',\n",
       " 'WindowsError',\n",
       " 'ZeroDivisionError',\n",
       " '__IPYTHON__',\n",
       " '__build_class__',\n",
       " '__debug__',\n",
       " '__doc__',\n",
       " '__import__',\n",
       " '__loader__',\n",
       " '__name__',\n",
       " '__package__',\n",
       " '__spec__',\n",
       " 'abs',\n",
       " 'all',\n",
       " 'any',\n",
       " 'ascii',\n",
       " 'bin',\n",
       " 'bool',\n",
       " 'bytearray',\n",
       " 'bytes',\n",
       " 'callable',\n",
       " 'chr',\n",
       " 'classmethod',\n",
       " 'compile',\n",
       " 'complex',\n",
       " 'copyright',\n",
       " 'credits',\n",
       " 'delattr',\n",
       " 'dict',\n",
       " 'dir',\n",
       " 'divmod',\n",
       " 'dreload',\n",
       " 'enumerate',\n",
       " 'eval',\n",
       " 'exec',\n",
       " 'filter',\n",
       " 'float',\n",
       " 'format',\n",
       " 'frozenset',\n",
       " 'get_ipython',\n",
       " 'getattr',\n",
       " 'globals',\n",
       " 'hasattr',\n",
       " 'hash',\n",
       " 'help',\n",
       " 'hex',\n",
       " 'id',\n",
       " 'input',\n",
       " 'int',\n",
       " 'isinstance',\n",
       " 'issubclass',\n",
       " 'iter',\n",
       " 'len',\n",
       " 'license',\n",
       " 'list',\n",
       " 'locals',\n",
       " 'map',\n",
       " 'max',\n",
       " 'memoryview',\n",
       " 'min',\n",
       " 'next',\n",
       " 'object',\n",
       " 'oct',\n",
       " 'open',\n",
       " 'ord',\n",
       " 'pow',\n",
       " 'print',\n",
       " 'property',\n",
       " 'range',\n",
       " 'repr',\n",
       " 'reversed',\n",
       " 'round',\n",
       " 'set',\n",
       " 'setattr',\n",
       " 'slice',\n",
       " 'sorted',\n",
       " 'staticmethod',\n",
       " 'str',\n",
       " 'sum',\n",
       " 'super',\n",
       " 'tuple',\n",
       " 'type',\n",
       " 'vars',\n",
       " 'zip']"
      ]
     },
     "execution_count": 37,
     "metadata": {},
     "output_type": "execute_result"
    }
   ],
   "source": [
    "dir(__builtin__)"
   ]
  },
  {
   "cell_type": "markdown",
   "metadata": {},
   "source": [
    "---\n",
    "### Задание 1\n",
    "\n",
    "Выведите список атрибутов класса Exception."
   ]
  },
  {
   "cell_type": "code",
   "execution_count": 40,
   "metadata": {},
   "outputs": [
    {
     "data": {
      "text/plain": [
       "['__cause__',\n",
       " '__class__',\n",
       " '__context__',\n",
       " '__delattr__',\n",
       " '__dict__',\n",
       " '__dir__',\n",
       " '__doc__',\n",
       " '__eq__',\n",
       " '__format__',\n",
       " '__ge__',\n",
       " '__getattribute__',\n",
       " '__gt__',\n",
       " '__hash__',\n",
       " '__init__',\n",
       " '__init_subclass__',\n",
       " '__le__',\n",
       " '__lt__',\n",
       " '__ne__',\n",
       " '__new__',\n",
       " '__reduce__',\n",
       " '__reduce_ex__',\n",
       " '__repr__',\n",
       " '__setattr__',\n",
       " '__setstate__',\n",
       " '__sizeof__',\n",
       " '__str__',\n",
       " '__subclasshook__',\n",
       " '__suppress_context__',\n",
       " '__traceback__',\n",
       " 'args',\n",
       " 'with_traceback']"
      ]
     },
     "execution_count": 40,
     "metadata": {},
     "output_type": "execute_result"
    }
   ],
   "source": [
    "dir(Exception)"
   ]
  },
  {
   "cell_type": "markdown",
   "metadata": {},
   "source": [
    "---"
   ]
  },
  {
   "cell_type": "markdown",
   "metadata": {},
   "source": [
    "### Полезно"
   ]
  },
  {
   "cell_type": "markdown",
   "metadata": {},
   "source": [
    "- При вызове метода какого-то класса (или функции какого-то модуля) можно написать его имя и через точку нажать **tab**:  \n",
    "\n",
    "<имя\\_объекта\\_класса(модуля)>**.[tab]**  \n",
    "\n",
    "Тогда всплывёт меню, в котором можно выбрать из всех существующих в этом классе методов (функций модуля)."
   ]
  },
  {
   "cell_type": "code",
   "execution_count": null,
   "metadata": {
    "collapsed": true
   },
   "outputs": [],
   "source": [
    "__builtin__."
   ]
  },
  {
   "cell_type": "markdown",
   "metadata": {},
   "source": [
    "- Получение быстрой справки (help()) для любого объекта Python:"
   ]
  },
  {
   "cell_type": "code",
   "execution_count": 41,
   "metadata": {
    "collapsed": true
   },
   "outputs": [],
   "source": [
    "?__builtin__"
   ]
  },
  {
   "cell_type": "markdown",
   "metadata": {},
   "source": [
    "### Структуры данных и встроенные функции"
   ]
  },
  {
   "cell_type": "markdown",
   "metadata": {},
   "source": [
    "### list"
   ]
  },
  {
   "cell_type": "code",
   "execution_count": 42,
   "metadata": {},
   "outputs": [
    {
     "name": "stdout",
     "output_type": "stream",
     "text": [
      "True\n"
     ]
    }
   ],
   "source": [
    "a = list()\n",
    "b = []\n",
    "\n",
    "print(a == b)"
   ]
  },
  {
   "cell_type": "code",
   "execution_count": 43,
   "metadata": {},
   "outputs": [
    {
     "data": {
      "text/plain": [
       "['string', 100, 5.678, None]"
      ]
     },
     "execution_count": 43,
     "metadata": {},
     "output_type": "execute_result"
    }
   ],
   "source": [
    "my_list = ['string', 100, 5.678, None]\n",
    "my_list"
   ]
  },
  {
   "cell_type": "markdown",
   "metadata": {},
   "source": [
    "* `list(range(start, end[, step]))` - получить последовательность (список) целых чисел, начинающуюся со `start`, заканчивающуюся в `end-1` и шагом `step`"
   ]
  },
  {
   "cell_type": "code",
   "execution_count": 44,
   "metadata": {},
   "outputs": [
    {
     "name": "stdout",
     "output_type": "stream",
     "text": [
      "range(1, 10, 2) | <class 'range'>\n"
     ]
    }
   ],
   "source": [
    "array = range(1, 10, 2)\n",
    "print(array, '|', type(array))"
   ]
  },
  {
   "cell_type": "code",
   "execution_count": 45,
   "metadata": {},
   "outputs": [
    {
     "name": "stdout",
     "output_type": "stream",
     "text": [
      "[1, 3, 5, 7, 9] | <class 'list'>\n"
     ]
    }
   ],
   "source": [
    "array = list(array)\n",
    "print(array, '|', type(array))"
   ]
  },
  {
   "cell_type": "code",
   "execution_count": 46,
   "metadata": {},
   "outputs": [
    {
     "data": {
      "text/plain": [
       "3"
      ]
     },
     "execution_count": 46,
     "metadata": {},
     "output_type": "execute_result"
    }
   ],
   "source": [
    "array[1]"
   ]
  },
  {
   "cell_type": "code",
   "execution_count": 47,
   "metadata": {},
   "outputs": [
    {
     "data": {
      "text/plain": [
       "9"
      ]
     },
     "execution_count": 47,
     "metadata": {},
     "output_type": "execute_result"
    }
   ],
   "source": [
    "array[-1]"
   ]
  },
  {
   "cell_type": "code",
   "execution_count": 48,
   "metadata": {},
   "outputs": [
    {
     "name": "stdout",
     "output_type": "stream",
     "text": [
      "0\n",
      "1\n",
      "2\n",
      "3\n",
      "4\n"
     ]
    }
   ],
   "source": [
    "for i in range(5):\n",
    "    print(i)"
   ]
  },
  {
   "cell_type": "markdown",
   "metadata": {},
   "source": [
    "* Перевернуть список:"
   ]
  },
  {
   "cell_type": "code",
   "execution_count": 49,
   "metadata": {},
   "outputs": [
    {
     "data": {
      "text/plain": [
       "[9, 7, 5, 3, 1]"
      ]
     },
     "execution_count": 49,
     "metadata": {},
     "output_type": "execute_result"
    }
   ],
   "source": [
    "array = array[::-1]\n",
    "array"
   ]
  },
  {
   "cell_type": "markdown",
   "metadata": {},
   "source": [
    "* Срезы (`slice`'s) - это объекты языка Python, позволяющие получить какую-то часть итерируемого объекта.  \n",
    "Пример:"
   ]
  },
  {
   "cell_type": "code",
   "execution_count": 50,
   "metadata": {},
   "outputs": [
    {
     "data": {
      "text/plain": [
       "[0, 1, 2, 3, 4, 5, 6, 7, 8, 9]"
      ]
     },
     "execution_count": 50,
     "metadata": {},
     "output_type": "execute_result"
    }
   ],
   "source": [
    "foo = list(range(10))\n",
    "foo"
   ]
  },
  {
   "cell_type": "code",
   "execution_count": 51,
   "metadata": {},
   "outputs": [
    {
     "data": {
      "text/plain": [
       "[0, 1, 2, 3, 4]"
      ]
     },
     "execution_count": 51,
     "metadata": {},
     "output_type": "execute_result"
    }
   ],
   "source": [
    "foo[:5]"
   ]
  },
  {
   "cell_type": "code",
   "execution_count": 52,
   "metadata": {},
   "outputs": [
    {
     "data": {
      "text/plain": [
       "[5, 6, 7, 8, 9]"
      ]
     },
     "execution_count": 52,
     "metadata": {},
     "output_type": "execute_result"
    }
   ],
   "source": [
    "foo[5:]"
   ]
  },
  {
   "cell_type": "code",
   "execution_count": 53,
   "metadata": {},
   "outputs": [
    {
     "data": {
      "text/plain": [
       "[2, 3, 4]"
      ]
     },
     "execution_count": 53,
     "metadata": {},
     "output_type": "execute_result"
    }
   ],
   "source": [
    "foo[2:5]"
   ]
  },
  {
   "cell_type": "code",
   "execution_count": 54,
   "metadata": {},
   "outputs": [
    {
     "name": "stdout",
     "output_type": "stream",
     "text": [
      "slice(2, 5, None) | <class 'slice'>\n"
     ]
    }
   ],
   "source": [
    "slice_2_5 = slice(2, 5)\n",
    "print(slice_2_5, '|', type(slice_2_5))"
   ]
  },
  {
   "cell_type": "code",
   "execution_count": 55,
   "metadata": {},
   "outputs": [
    {
     "data": {
      "text/plain": [
       "[2, 3, 4]"
      ]
     },
     "execution_count": 55,
     "metadata": {},
     "output_type": "execute_result"
    }
   ],
   "source": [
    "foo[slice_2_5]"
   ]
  },
  {
   "cell_type": "markdown",
   "metadata": {},
   "source": [
    "* `S.join(iterable)` - возвращает строку, которая является конкатенацией строк из `iterable`. Разделитель между строками - строка `S`"
   ]
  },
  {
   "cell_type": "code",
   "execution_count": 56,
   "metadata": {
    "collapsed": true
   },
   "outputs": [],
   "source": [
    "str_array = ['a', 'b', 'c', 'd', 'e']"
   ]
  },
  {
   "cell_type": "code",
   "execution_count": 57,
   "metadata": {},
   "outputs": [
    {
     "data": {
      "text/plain": [
       "'a b c d e'"
      ]
     },
     "execution_count": 57,
     "metadata": {},
     "output_type": "execute_result"
    }
   ],
   "source": [
    "' '.join(str_array)"
   ]
  },
  {
   "cell_type": "code",
   "execution_count": 58,
   "metadata": {},
   "outputs": [
    {
     "data": {
      "text/plain": [
       "'a!_and_!b!_and_!c!_and_!d!_and_!e'"
      ]
     },
     "execution_count": 58,
     "metadata": {},
     "output_type": "execute_result"
    }
   ],
   "source": [
    "'!_and_!'.join(str_array)"
   ]
  },
  {
   "cell_type": "markdown",
   "metadata": {},
   "source": [
    "* Списки можно \"склеивать\":"
   ]
  },
  {
   "cell_type": "code",
   "execution_count": 59,
   "metadata": {},
   "outputs": [
    {
     "name": "stdout",
     "output_type": "stream",
     "text": [
      "[1, 2, 3, 4, 5, 6]\n"
     ]
    }
   ],
   "source": [
    "a = [1, 2, 3]\n",
    "b = [4, 5, 6]\n",
    "\n",
    "print(a + b)"
   ]
  },
  {
   "cell_type": "markdown",
   "metadata": {},
   "source": [
    "### Методы класса list"
   ]
  },
  {
   "cell_type": "code",
   "execution_count": 60,
   "metadata": {
    "scrolled": true
   },
   "outputs": [
    {
     "data": {
      "text/plain": [
       "['__add__',\n",
       " '__class__',\n",
       " '__contains__',\n",
       " '__delattr__',\n",
       " '__delitem__',\n",
       " '__dir__',\n",
       " '__doc__',\n",
       " '__eq__',\n",
       " '__format__',\n",
       " '__ge__',\n",
       " '__getattribute__',\n",
       " '__getitem__',\n",
       " '__gt__',\n",
       " '__hash__',\n",
       " '__iadd__',\n",
       " '__imul__',\n",
       " '__init__',\n",
       " '__init_subclass__',\n",
       " '__iter__',\n",
       " '__le__',\n",
       " '__len__',\n",
       " '__lt__',\n",
       " '__mul__',\n",
       " '__ne__',\n",
       " '__new__',\n",
       " '__reduce__',\n",
       " '__reduce_ex__',\n",
       " '__repr__',\n",
       " '__reversed__',\n",
       " '__rmul__',\n",
       " '__setattr__',\n",
       " '__setitem__',\n",
       " '__sizeof__',\n",
       " '__str__',\n",
       " '__subclasshook__',\n",
       " 'append',\n",
       " 'clear',\n",
       " 'copy',\n",
       " 'count',\n",
       " 'extend',\n",
       " 'index',\n",
       " 'insert',\n",
       " 'pop',\n",
       " 'remove',\n",
       " 'reverse',\n",
       " 'sort']"
      ]
     },
     "execution_count": 60,
     "metadata": {},
     "output_type": "execute_result"
    }
   ],
   "source": [
    "dir(list)"
   ]
  },
  {
   "cell_type": "markdown",
   "metadata": {},
   "source": [
    "* `L.append(element)` - добавляет элемент `element` в список `L`"
   ]
  },
  {
   "cell_type": "code",
   "execution_count": 61,
   "metadata": {},
   "outputs": [
    {
     "data": {
      "text/plain": [
       "[4, 5, 1, 3, 2, 'BANG!']"
      ]
     },
     "execution_count": 61,
     "metadata": {},
     "output_type": "execute_result"
    }
   ],
   "source": [
    "l = [4, 5, 1, 3, 2]\n",
    "\n",
    "l.append('BANG!')\n",
    "l"
   ]
  },
  {
   "cell_type": "markdown",
   "metadata": {},
   "source": [
    "* `sorted(iterable, key)` - возвращает объект, являющийся отсортированной в соответствии с компаратором (по ключу) `key` версией объекта `iterable`. **НЕ изменяет начальный объект!**"
   ]
  },
  {
   "cell_type": "code",
   "execution_count": 62,
   "metadata": {},
   "outputs": [
    {
     "ename": "TypeError",
     "evalue": "'<' not supported between instances of 'str' and 'int'",
     "output_type": "error",
     "traceback": [
      "\u001b[1;31m---------------------------------------------------------------------------\u001b[0m",
      "\u001b[1;31mTypeError\u001b[0m                                 Traceback (most recent call last)",
      "\u001b[1;32m<ipython-input-62-072559ee4998>\u001b[0m in \u001b[0;36m<module>\u001b[1;34m()\u001b[0m\n\u001b[1;32m----> 1\u001b[1;33m \u001b[0mprint\u001b[0m\u001b[1;33m(\u001b[0m\u001b[0msorted\u001b[0m\u001b[1;33m(\u001b[0m\u001b[0ml\u001b[0m\u001b[1;33m)\u001b[0m\u001b[1;33m,\u001b[0m \u001b[1;34m'|'\u001b[0m\u001b[1;33m,\u001b[0m \u001b[0ml\u001b[0m\u001b[1;33m)\u001b[0m\u001b[1;33m\u001b[0m\u001b[0m\n\u001b[0m",
      "\u001b[1;31mTypeError\u001b[0m: '<' not supported between instances of 'str' and 'int'"
     ]
    }
   ],
   "source": [
    "print(sorted(l), '|', l)"
   ]
  },
  {
   "cell_type": "code",
   "execution_count": 63,
   "metadata": {},
   "outputs": [
    {
     "data": {
      "text/plain": [
       "'BANG!'"
      ]
     },
     "execution_count": 63,
     "metadata": {},
     "output_type": "execute_result"
    }
   ],
   "source": [
    "l.pop()"
   ]
  },
  {
   "cell_type": "code",
   "execution_count": 64,
   "metadata": {},
   "outputs": [
    {
     "name": "stdout",
     "output_type": "stream",
     "text": [
      "[1, 2, 3, 4, 5] | [4, 5, 1, 3, 2]\n"
     ]
    }
   ],
   "source": [
    "print(sorted(l), '|', l)"
   ]
  },
  {
   "cell_type": "code",
   "execution_count": 65,
   "metadata": {
    "collapsed": true
   },
   "outputs": [],
   "source": [
    "def cmp(string):\n",
    "    return len(string)"
   ]
  },
  {
   "cell_type": "code",
   "execution_count": 66,
   "metadata": {},
   "outputs": [
    {
     "data": {
      "text/plain": [
       "['Оля', 'Соня', 'Френк', 'Василий', 'Александр', 'Анастасия']"
      ]
     },
     "execution_count": 66,
     "metadata": {},
     "output_type": "execute_result"
    }
   ],
   "source": [
    "names = ['Александр', 'Василий', 'Анастасия', 'Соня', 'Френк', 'Оля']\n",
    "sorted(names, key=cmp)"
   ]
  },
  {
   "cell_type": "code",
   "execution_count": 67,
   "metadata": {},
   "outputs": [
    {
     "data": {
      "text/plain": [
       "['Оля', 'Соня', 'Френк', 'Василий', 'Александр', 'Анастасия']"
      ]
     },
     "execution_count": 67,
     "metadata": {},
     "output_type": "execute_result"
    }
   ],
   "source": [
    "names = ['Александр', 'Василий', 'Анастасия', 'Соня', 'Френк', 'Оля']\n",
    "sorted(names, key=lambda x: len(x))"
   ]
  },
  {
   "cell_type": "code",
   "execution_count": 68,
   "metadata": {},
   "outputs": [
    {
     "data": {
      "text/plain": [
       "['Александр', 'Василий', 'Анастасия', 'Соня', 'Френк', 'Оля']"
      ]
     },
     "execution_count": 68,
     "metadata": {},
     "output_type": "execute_result"
    }
   ],
   "source": [
    "names"
   ]
  },
  {
   "cell_type": "markdown",
   "metadata": {},
   "source": [
    "* `L.sort(key)` - сортирует лист L в соответствии с компаратором (по ключу) key. **Изменяет начальный объект!**"
   ]
  },
  {
   "cell_type": "code",
   "execution_count": 69,
   "metadata": {},
   "outputs": [
    {
     "ename": "TypeError",
     "evalue": "'<' not supported between instances of 'str' and 'int'",
     "output_type": "error",
     "traceback": [
      "\u001b[1;31m---------------------------------------------------------------------------\u001b[0m",
      "\u001b[1;31mTypeError\u001b[0m                                 Traceback (most recent call last)",
      "\u001b[1;32m<ipython-input-69-4e5ed5e6c4e6>\u001b[0m in \u001b[0;36m<module>\u001b[1;34m()\u001b[0m\n\u001b[0;32m      4\u001b[0m \u001b[0ml\u001b[0m\u001b[1;33m\u001b[0m\u001b[0m\n\u001b[0;32m      5\u001b[0m \u001b[1;33m\u001b[0m\u001b[0m\n\u001b[1;32m----> 6\u001b[1;33m \u001b[0ml\u001b[0m\u001b[1;33m.\u001b[0m\u001b[0msort\u001b[0m\u001b[1;33m(\u001b[0m\u001b[1;33m)\u001b[0m\u001b[1;33m\u001b[0m\u001b[0m\n\u001b[0m",
      "\u001b[1;31mTypeError\u001b[0m: '<' not supported between instances of 'str' and 'int'"
     ]
    }
   ],
   "source": [
    "l = [1, 2, 3, 4, 5]\n",
    "\n",
    "l.append('BANG!')\n",
    "l\n",
    "\n",
    "l.sort()"
   ]
  },
  {
   "cell_type": "code",
   "execution_count": 70,
   "metadata": {},
   "outputs": [
    {
     "data": {
      "text/plain": [
       "'BANG!'"
      ]
     },
     "execution_count": 70,
     "metadata": {},
     "output_type": "execute_result"
    }
   ],
   "source": [
    "l.pop()"
   ]
  },
  {
   "cell_type": "code",
   "execution_count": 71,
   "metadata": {},
   "outputs": [
    {
     "data": {
      "text/plain": [
       "[1, 2, 3, 4, 5]"
      ]
     },
     "execution_count": 71,
     "metadata": {},
     "output_type": "execute_result"
    }
   ],
   "source": [
    "l"
   ]
  },
  {
   "cell_type": "code",
   "execution_count": 72,
   "metadata": {},
   "outputs": [
    {
     "data": {
      "text/plain": [
       "[5, 4, 3, 2, 1]"
      ]
     },
     "execution_count": 72,
     "metadata": {},
     "output_type": "execute_result"
    }
   ],
   "source": [
    "l.sort(reverse=True)\n",
    "l"
   ]
  },
  {
   "cell_type": "markdown",
   "metadata": {},
   "source": [
    "* `L.count(element)` - возвращает количество вхождений элемента `element` в список `L`"
   ]
  },
  {
   "cell_type": "code",
   "execution_count": 73,
   "metadata": {},
   "outputs": [
    {
     "data": {
      "text/plain": [
       "1"
      ]
     },
     "execution_count": 73,
     "metadata": {},
     "output_type": "execute_result"
    }
   ],
   "source": [
    "l.count(1)"
   ]
  },
  {
   "cell_type": "code",
   "execution_count": 74,
   "metadata": {},
   "outputs": [
    {
     "data": {
      "text/plain": [
       "0"
      ]
     },
     "execution_count": 74,
     "metadata": {},
     "output_type": "execute_result"
    }
   ],
   "source": [
    "l.count('padabum')"
   ]
  },
  {
   "cell_type": "code",
   "execution_count": 75,
   "metadata": {},
   "outputs": [
    {
     "data": {
      "text/plain": [
       "5"
      ]
     },
     "execution_count": 75,
     "metadata": {},
     "output_type": "execute_result"
    }
   ],
   "source": [
    "len(l)"
   ]
  },
  {
   "cell_type": "markdown",
   "metadata": {},
   "source": [
    "`L.index(element)` - возвращает индекс элемента `element` в списке `L`, если он там присутствует, `None` иначе"
   ]
  },
  {
   "cell_type": "code",
   "execution_count": 76,
   "metadata": {},
   "outputs": [
    {
     "data": {
      "text/plain": [
       "2"
      ]
     },
     "execution_count": 76,
     "metadata": {},
     "output_type": "execute_result"
    }
   ],
   "source": [
    "l.index(3)"
   ]
  },
  {
   "cell_type": "markdown",
   "metadata": {},
   "source": [
    "---"
   ]
  },
  {
   "cell_type": "markdown",
   "metadata": {},
   "source": [
    "### Задание 2\n"
   ]
  },
  {
   "cell_type": "markdown",
   "metadata": {},
   "source": [
    "1. Создайте два списка одинаковых размеров из одинаковых элементов:  \n",
    "`items = [какие-то элементы]`  \n",
    "`shuffled_items = [эти же элементы, но расставленные в другом порядке]`  \n",
    "\n",
    "2. Отсортируйте список `items` в соответствие с ключом так, чтобы получился список `shuffled_items`"
   ]
  },
  {
   "cell_type": "code",
   "execution_count": 80,
   "metadata": {},
   "outputs": [
    {
     "name": "stdout",
     "output_type": "stream",
     "text": [
      "[1, 3, 5, 7, 4, 2, 6]\n"
     ]
    }
   ],
   "source": [
    "items = [1,2,3,4,5,6,7]\n",
    "shuffled_items = [1,3,5,7,4,2,6]\n",
    "print(sorted(items, key=lambda x: shuffled_items.index(x)))"
   ]
  },
  {
   "cell_type": "markdown",
   "metadata": {},
   "source": [
    "---"
   ]
  },
  {
   "cell_type": "markdown",
   "metadata": {},
   "source": [
    "### Циклы - for и while"
   ]
  },
  {
   "cell_type": "code",
   "execution_count": 81,
   "metadata": {},
   "outputs": [
    {
     "name": "stdout",
     "output_type": "stream",
     "text": [
      "decision tree\n",
      "linear model\n",
      "svm\n",
      "ensemble\n"
     ]
    }
   ],
   "source": [
    "models = ['decision tree', 'linear model', 'svm', 'ensemble']\n",
    "\n",
    "for model in models:\n",
    "    print(model)"
   ]
  },
  {
   "cell_type": "code",
   "execution_count": 82,
   "metadata": {},
   "outputs": [
    {
     "name": "stdout",
     "output_type": "stream",
     "text": [
      "90\n",
      "80\n",
      "70\n",
      "60\n",
      "50\n"
     ]
    }
   ],
   "source": [
    "x = 100\n",
    "\n",
    "while x > 50:\n",
    "    x -= 10\n",
    "    print(x)"
   ]
  },
  {
   "cell_type": "markdown",
   "metadata": {},
   "source": [
    "### enumerate, zip"
   ]
  },
  {
   "cell_type": "code",
   "execution_count": 83,
   "metadata": {},
   "outputs": [
    {
     "data": {
      "text/plain": [
       "<zip at 0x15f23410c88>"
      ]
     },
     "execution_count": 83,
     "metadata": {},
     "output_type": "execute_result"
    }
   ],
   "source": [
    "first = 'a b c d e f g'.split(' ')\n",
    "second = '1 2 3 4 5 6 7'.split(' ')\n",
    "\n",
    "zip(first, second)"
   ]
  },
  {
   "cell_type": "code",
   "execution_count": 84,
   "metadata": {},
   "outputs": [
    {
     "data": {
      "text/plain": [
       "[('a', '1'),\n",
       " ('b', '2'),\n",
       " ('c', '3'),\n",
       " ('d', '4'),\n",
       " ('e', '5'),\n",
       " ('f', '6'),\n",
       " ('g', '7')]"
      ]
     },
     "execution_count": 84,
     "metadata": {},
     "output_type": "execute_result"
    }
   ],
   "source": [
    "list(zip(first, second))"
   ]
  },
  {
   "cell_type": "code",
   "execution_count": 85,
   "metadata": {},
   "outputs": [
    {
     "name": "stdout",
     "output_type": "stream",
     "text": [
      "0 ArithmeticError\n",
      "5 BrokenPipeError\n",
      "10 ConnectionError\n",
      "15 Ellipsis\n",
      "20 FileNotFoundError\n",
      "25 ImportError\n",
      "30 IsADirectoryError\n",
      "35 ModuleNotFoundError\n",
      "40 NotImplementedError\n",
      "45 ProcessLookupError\n",
      "50 RuntimeWarning\n",
      "55 SystemError\n",
      "60 TypeError\n",
      "65 UnicodeTranslateError\n",
      "70 WindowsError\n",
      "75 __doc__\n",
      "80 __spec__\n",
      "85 bin\n",
      "90 chr\n",
      "95 credits\n",
      "100 dreload\n",
      "105 float\n",
      "110 globals\n",
      "115 id\n",
      "120 iter\n",
      "125 map\n",
      "130 object\n",
      "135 print\n",
      "140 round\n",
      "145 staticmethod\n",
      "150 type\n"
     ]
    }
   ],
   "source": [
    "methods = dir(__builtin__)\n",
    "\n",
    "for num, method in enumerate(methods):\n",
    "    if num % 5 == 0:\n",
    "        print(num, method)"
   ]
  },
  {
   "cell_type": "code",
   "execution_count": 86,
   "metadata": {},
   "outputs": [
    {
     "data": {
      "text/plain": [
       "[(0, 'a'), (1, 'b'), (2, 'c'), (3, 'd'), (4, 'e'), (5, 'f'), (6, 'g')]"
      ]
     },
     "execution_count": 86,
     "metadata": {},
     "output_type": "execute_result"
    }
   ],
   "source": [
    "enum = enumerate(first)\n",
    "list(enum)"
   ]
  },
  {
   "cell_type": "code",
   "execution_count": 87,
   "metadata": {},
   "outputs": [
    {
     "name": "stdout",
     "output_type": "stream",
     "text": [
      "True\n"
     ]
    }
   ],
   "source": [
    "enum = enumerate(first)\n",
    "zip_style = zip(range(0, len(first)), first)\n",
    "\n",
    "print(list(enum) == list(zip_style))"
   ]
  },
  {
   "cell_type": "markdown",
   "metadata": {},
   "source": [
    "---\n",
    "\n",
    "### Задание 3\n",
    "\n",
    "1. Создайте список `a`, состоящий из каких-то элементов.\n",
    "2. Создайте список `b` такого же размера, как `a`, состоящий из каких-то элементов.\n",
    "3. Выведите нумерованный список пар из элементов списков `a` и `b`."
   ]
  },
  {
   "cell_type": "code",
   "execution_count": 89,
   "metadata": {},
   "outputs": [
    {
     "name": "stdout",
     "output_type": "stream",
     "text": [
      "[(0, ('a', 'а')), (1, ('b', 'б')), (2, ('c', 'в')), (3, ('d', 'г'))]\n"
     ]
    }
   ],
   "source": [
    "a = ['a', 'b', 'c', 'd']\n",
    "b = ['а', 'б', 'в', 'г']\n",
    "\n",
    "print(list(enumerate(zip(a,b))))"
   ]
  },
  {
   "cell_type": "markdown",
   "metadata": {},
   "source": [
    "---"
   ]
  },
  {
   "cell_type": "markdown",
   "metadata": {},
   "source": [
    "### list comprehensions"
   ]
  },
  {
   "cell_type": "code",
   "execution_count": 90,
   "metadata": {},
   "outputs": [
    {
     "data": {
      "text/plain": [
       "[1, 2, 3, 4, 5]"
      ]
     },
     "execution_count": 90,
     "metadata": {},
     "output_type": "execute_result"
    }
   ],
   "source": [
    "a = [x for x in range(1, 6)]\n",
    "a"
   ]
  },
  {
   "cell_type": "code",
   "execution_count": 91,
   "metadata": {
    "collapsed": true
   },
   "outputs": [],
   "source": [
    "def f(x):\n",
    "    return x ** 2"
   ]
  },
  {
   "cell_type": "code",
   "execution_count": 92,
   "metadata": {
    "scrolled": true
   },
   "outputs": [
    {
     "name": "stdout",
     "output_type": "stream",
     "text": [
      "[1, 4, 9, 16, 25, 36, 49, 64, 81] == [1, 4, 9, 16, 25, 36, 49, 64, 81]\n"
     ]
    }
   ],
   "source": [
    "b = [f(x) for x in range(1, 10)]\n",
    "c = [x ** 2 for x in range(1, 10)]\n",
    "print(b, '==', c)"
   ]
  },
  {
   "cell_type": "code",
   "execution_count": 93,
   "metadata": {},
   "outputs": [
    {
     "data": {
      "text/plain": [
       "['a', '*', '*', '*', 'e']"
      ]
     },
     "execution_count": 93,
     "metadata": {},
     "output_type": "execute_result"
    }
   ],
   "source": [
    "[x if x in 'aeiou' else '*' for x in 'apple']"
   ]
  },
  {
   "cell_type": "code",
   "execution_count": 94,
   "metadata": {},
   "outputs": [
    {
     "data": {
      "text/plain": [
       "['0', '1', '1', '2', '2', '3']"
      ]
     },
     "execution_count": 94,
     "metadata": {},
     "output_type": "execute_result"
    }
   ],
   "source": [
    "def foo(i):\n",
    "    return i, i + 1\n",
    "\n",
    "l = []\n",
    "for i in range(3):\n",
    "    for x in foo(i):\n",
    "        l.append(str(x))\n",
    "        \n",
    "l"
   ]
  },
  {
   "cell_type": "code",
   "execution_count": 95,
   "metadata": {},
   "outputs": [
    {
     "data": {
      "text/plain": [
       "['0', '1', '1', '2', '2', '3']"
      ]
     },
     "execution_count": 95,
     "metadata": {},
     "output_type": "execute_result"
    }
   ],
   "source": [
    "l = [str(x) for i in range(3) for x in foo(i)]\n",
    "l"
   ]
  },
  {
   "cell_type": "markdown",
   "metadata": {},
   "source": [
    "---"
   ]
  },
  {
   "cell_type": "markdown",
   "metadata": {},
   "source": [
    "### Задание 4"
   ]
  },
  {
   "cell_type": "markdown",
   "metadata": {},
   "source": [
    "*Выведите* список из 100 чисел *через запятую*. **Циклами пользоваться нельзя.**"
   ]
  },
  {
   "cell_type": "code",
   "execution_count": 98,
   "metadata": {},
   "outputs": [
    {
     "name": "stdout",
     "output_type": "stream",
     "text": [
      "0, 1, 2, 3, 4, 5, 6, 7, 8, 9, 10, 11, 12, 13, 14, 15, 16, 17, 18, 19, 20, 21, 22, 23, 24, 25, 26, 27, 28, 29, 30, 31, 32, 33, 34, 35, 36, 37, 38, 39, 40, 41, 42, 43, 44, 45, 46, 47, 48, 49, 50, 51, 52, 53, 54, 55, 56, 57, 58, 59, 60, 61, 62, 63, 64, 65, 66, 67, 68, 69, 70, 71, 72, 73, 74, 75, 76, 77, 78, 79, 80, 81, 82, 83, 84, 85, 86, 87, 88, 89, 90, 91, 92, 93, 94, 95, 96, 97, 98, 99\n"
     ]
    }
   ],
   "source": [
    "print(\", \".join([str(x) for x in range(100)]))"
   ]
  },
  {
   "cell_type": "markdown",
   "metadata": {},
   "source": [
    "---"
   ]
  },
  {
   "cell_type": "markdown",
   "metadata": {},
   "source": [
    "### functions, lambdas"
   ]
  },
  {
   "cell_type": "markdown",
   "metadata": {},
   "source": [
    "<img align=center src=\"http://stopnonsense.com/wp-content/uploads/Running-is-running.jpg\" style=\"height:300px;\"/>"
   ]
  },
  {
   "cell_type": "code",
   "execution_count": 99,
   "metadata": {
    "collapsed": true
   },
   "outputs": [],
   "source": [
    "def make_coffee(size, sugar_dose=3, **kwargs):\n",
    "    if sugar_dose > 5:\n",
    "        return 'Too much sugar! Be careful! :('\n",
    "    else:\n",
    "        return 'Done: cup of {0} ml size; amount of sugar = {1}'.format(size, sugar_dose)"
   ]
  },
  {
   "cell_type": "code",
   "execution_count": 100,
   "metadata": {},
   "outputs": [
    {
     "data": {
      "text/plain": [
       "'Done: cup of 100 ml size; amount of sugar = 3'"
      ]
     },
     "execution_count": 100,
     "metadata": {},
     "output_type": "execute_result"
    }
   ],
   "source": [
    "make_coffee(100)"
   ]
  },
  {
   "cell_type": "code",
   "execution_count": 101,
   "metadata": {},
   "outputs": [
    {
     "data": {
      "text/plain": [
       "'Done: cup of 200 ml size; amount of sugar = 1'"
      ]
     },
     "execution_count": 101,
     "metadata": {},
     "output_type": "execute_result"
    }
   ],
   "source": [
    "make_coffee(200, 1)"
   ]
  },
  {
   "cell_type": "code",
   "execution_count": 102,
   "metadata": {},
   "outputs": [
    {
     "data": {
      "text/plain": [
       "'Too much sugar! Be careful! :('"
      ]
     },
     "execution_count": 102,
     "metadata": {},
     "output_type": "execute_result"
    }
   ],
   "source": [
    "make_coffee(100, 6)"
   ]
  },
  {
   "cell_type": "code",
   "execution_count": 103,
   "metadata": {},
   "outputs": [
    {
     "data": {
      "text/plain": [
       "'Done: cup of 120 ml size; amount of sugar = 5'"
      ]
     },
     "execution_count": 103,
     "metadata": {},
     "output_type": "execute_result"
    }
   ],
   "source": [
    "make_coffee(120, 5, name='Ilya', gender='male')  # kwargs"
   ]
  },
  {
   "cell_type": "code",
   "execution_count": 105,
   "metadata": {},
   "outputs": [
    {
     "name": "stdout",
     "output_type": "stream",
     "text": [
      "5\n"
     ]
    }
   ],
   "source": [
    "negation = lambda x: -x\n",
    "a = -5\n",
    "print(negation(a))"
   ]
  },
  {
   "cell_type": "markdown",
   "metadata": {},
   "source": [
    "### map, reduce, filter"
   ]
  },
  {
   "cell_type": "markdown",
   "metadata": {},
   "source": [
    "* `map(func, iterables)` - выполняет преобразование func над элементами iterables и возвращает **новый** `iterable`:"
   ]
  },
  {
   "cell_type": "code",
   "execution_count": 106,
   "metadata": {
    "collapsed": true
   },
   "outputs": [],
   "source": [
    "words = dir(list)"
   ]
  },
  {
   "cell_type": "code",
   "execution_count": 107,
   "metadata": {
    "scrolled": true
   },
   "outputs": [
    {
     "name": "stdout",
     "output_type": "stream",
     "text": [
      "[7, 9, 12, 11, 11, 7, 7, 6, 10, 6, 16, 11, 6, 8, 8, 8, 8, 17, 8, 6, 7, 6, 7, 6, 7, 10, 13, 8, 12, 8, 11, 11, 10, 7, 16, 6, 5, 4, 5, 6, 5, 6, 3, 6, 7, 4]\n",
      "\n",
      "['__add__', '__class__', '__contains__', '__delattr__', '__delitem__', '__dir__', '__doc__', '__eq__', '__format__', '__ge__', '__getattribute__', '__getitem__', '__gt__', '__hash__', '__iadd__', '__imul__', '__init__', '__init_subclass__', '__iter__', '__le__', '__len__', '__lt__', '__mul__', '__ne__', '__new__', '__reduce__', '__reduce_ex__', '__repr__', '__reversed__', '__rmul__', '__setattr__', '__setitem__', '__sizeof__', '__str__', '__subclasshook__', 'append', 'clear', 'copy', 'count', 'extend', 'index', 'insert', 'pop', 'remove', 'reverse', 'sort']\n"
     ]
    }
   ],
   "source": [
    "letter_counts = list(map(lambda x: len(x), words))\n",
    "\n",
    "print(letter_counts)\n",
    "print()\n",
    "print(words)"
   ]
  },
  {
   "cell_type": "code",
   "execution_count": 108,
   "metadata": {},
   "outputs": [
    {
     "name": "stdout",
     "output_type": "stream",
     "text": [
      "[113, 116, 119]\n"
     ]
    }
   ],
   "source": [
    "l1 = [1,2,3,4]\n",
    "l2 = [11, 12, 13, 14, 15]\n",
    "l3 = [101, 102, 103]\n",
    "\n",
    "triple_sum = list(map(lambda x, y, z: x + y + z, l1, l2, l3))\n",
    "print(triple_sum)"
   ]
  },
  {
   "cell_type": "markdown",
   "metadata": {},
   "source": [
    "* `reduce(func, iterables)` - производит вычисление с элементами последовательности, результатом которого является **одно значение**:"
   ]
  },
  {
   "cell_type": "code",
   "execution_count": 109,
   "metadata": {
    "collapsed": true
   },
   "outputs": [],
   "source": [
    "from functools import reduce"
   ]
  },
  {
   "cell_type": "code",
   "execution_count": 110,
   "metadata": {},
   "outputs": [
    {
     "name": "stdout",
     "output_type": "stream",
     "text": [
      "378\n"
     ]
    }
   ],
   "source": [
    "sum_of_counts = reduce(lambda x, y: x + y, letter_counts)\n",
    "print(sum_of_counts)"
   ]
  },
  {
   "cell_type": "markdown",
   "metadata": {
    "collapsed": true
   },
   "source": [
    "* `filter(predicate, iterable)` - оставляет только те элементы, для которых **верен** предикат (функция, возвращающая bool):"
   ]
  },
  {
   "cell_type": "code",
   "execution_count": 111,
   "metadata": {},
   "outputs": [
    {
     "name": "stdout",
     "output_type": "stream",
     "text": [
      "['мак', 'мак', 'мак', 'мак', 'мак']\n"
     ]
    }
   ],
   "source": [
    "mixed = ['мак', 'просо', 'мак', 'мак', 'просо', 'мак', 'просо', 'просо', 'просо', 'мак']\n",
    "only_mac = list(filter(lambda x: x == 'мак', mixed))\n",
    "print(only_mac)"
   ]
  },
  {
   "cell_type": "markdown",
   "metadata": {},
   "source": [
    "---"
   ]
  },
  {
   "cell_type": "markdown",
   "metadata": {},
   "source": [
    "### Задание 5\n",
    "\n",
    "1. Дан массив строк: `['agfkd.,f', 'Qksdf;sb&..', 'asdoo*', 'bgf...d', 're54()kj[]].'] `\n",
    "2. Создайте список, состоящий из количества точек в каждой строке. Выведите его\n",
    "3. Создайте новый список, в котором будут только строки, в которых более 2-х точек. Выведите его  \n",
    "\n",
    "Циклами пользоваться нельзя."
   ]
  },
  {
   "cell_type": "code",
   "execution_count": 5,
   "metadata": {},
   "outputs": [
    {
     "name": "stdout",
     "output_type": "stream",
     "text": [
      "[1, 2, 0, 3, 1]\n",
      "['bgf...d']\n"
     ]
    }
   ],
   "source": [
    "a = ['agfkd.,f', 'Qksdf;sb&..', 'asdoo*', 'bgf...d', 're54()kj[]].']\n",
    "print(list(map(lambda x: x.count('.'), a)))\n",
    "print(list(filter(lambda x: x.count('.') > 2, a)))"
   ]
  },
  {
   "cell_type": "markdown",
   "metadata": {},
   "source": [
    "---"
   ]
  },
  {
   "cell_type": "markdown",
   "metadata": {},
   "source": [
    "### set"
   ]
  },
  {
   "cell_type": "code",
   "execution_count": 112,
   "metadata": {},
   "outputs": [
    {
     "data": {
      "text/plain": [
       "set()"
      ]
     },
     "execution_count": 112,
     "metadata": {},
     "output_type": "execute_result"
    }
   ],
   "source": [
    "s = set()\n",
    "s"
   ]
  },
  {
   "cell_type": "code",
   "execution_count": 113,
   "metadata": {},
   "outputs": [
    {
     "data": {
      "text/plain": [
       "['__and__',\n",
       " '__class__',\n",
       " '__contains__',\n",
       " '__delattr__',\n",
       " '__dir__',\n",
       " '__doc__',\n",
       " '__eq__',\n",
       " '__format__',\n",
       " '__ge__',\n",
       " '__getattribute__',\n",
       " '__gt__',\n",
       " '__hash__',\n",
       " '__iand__',\n",
       " '__init__',\n",
       " '__init_subclass__',\n",
       " '__ior__',\n",
       " '__isub__',\n",
       " '__iter__',\n",
       " '__ixor__',\n",
       " '__le__',\n",
       " '__len__',\n",
       " '__lt__',\n",
       " '__ne__',\n",
       " '__new__',\n",
       " '__or__',\n",
       " '__rand__',\n",
       " '__reduce__',\n",
       " '__reduce_ex__',\n",
       " '__repr__',\n",
       " '__ror__',\n",
       " '__rsub__',\n",
       " '__rxor__',\n",
       " '__setattr__',\n",
       " '__sizeof__',\n",
       " '__str__',\n",
       " '__sub__',\n",
       " '__subclasshook__',\n",
       " '__xor__',\n",
       " 'add',\n",
       " 'clear',\n",
       " 'copy',\n",
       " 'difference',\n",
       " 'difference_update',\n",
       " 'discard',\n",
       " 'intersection',\n",
       " 'intersection_update',\n",
       " 'isdisjoint',\n",
       " 'issubset',\n",
       " 'issuperset',\n",
       " 'pop',\n",
       " 'remove',\n",
       " 'symmetric_difference',\n",
       " 'symmetric_difference_update',\n",
       " 'union',\n",
       " 'update']"
      ]
     },
     "execution_count": 113,
     "metadata": {},
     "output_type": "execute_result"
    }
   ],
   "source": [
    "dir(s)"
   ]
  },
  {
   "cell_type": "code",
   "execution_count": 114,
   "metadata": {},
   "outputs": [
    {
     "name": "stdout",
     "output_type": "stream",
     "text": [
      "{1, None, 'a', 'bullet'}\n"
     ]
    }
   ],
   "source": [
    "s.add(1)\n",
    "s.add('a')\n",
    "s.add(None)\n",
    "s.add('bullet')\n",
    "print(s)"
   ]
  },
  {
   "cell_type": "code",
   "execution_count": 115,
   "metadata": {
    "collapsed": true
   },
   "outputs": [],
   "source": [
    "s1 = set(range(0, 10))\n",
    "s2 = set(range(5, 15))"
   ]
  },
  {
   "cell_type": "code",
   "execution_count": 116,
   "metadata": {},
   "outputs": [
    {
     "name": "stdout",
     "output_type": "stream",
     "text": [
      "{0, 1, 2, 3, 4}\n",
      "\n",
      "{10, 11, 12, 13, 14}\n"
     ]
    }
   ],
   "source": [
    "print(s1.difference(s2))\n",
    "print()\n",
    "print(s2.difference(s1))"
   ]
  },
  {
   "cell_type": "code",
   "execution_count": 117,
   "metadata": {},
   "outputs": [
    {
     "data": {
      "text/plain": [
       "{5, 6, 7, 8, 9}"
      ]
     },
     "execution_count": 117,
     "metadata": {},
     "output_type": "execute_result"
    }
   ],
   "source": [
    "s1.intersection(s2)"
   ]
  },
  {
   "cell_type": "code",
   "execution_count": 118,
   "metadata": {},
   "outputs": [
    {
     "data": {
      "text/plain": [
       "{0, 1, 2, 3, 4, 5, 6, 7, 8, 9, 10, 11, 12, 13, 14}"
      ]
     },
     "execution_count": 118,
     "metadata": {},
     "output_type": "execute_result"
    }
   ],
   "source": [
    "s1.union(s2)"
   ]
  },
  {
   "cell_type": "code",
   "execution_count": 119,
   "metadata": {},
   "outputs": [
    {
     "name": "stdout",
     "output_type": "stream",
     "text": [
      "s1:  {0, 1, 2, 3, 4, 5, 6, 7, 8, 9} \n",
      "s2:  {5, 6, 7, 8, 9, 10, 11, 12, 13, 14}\n"
     ]
    }
   ],
   "source": [
    "print('s1: ', s1, '\\ns2: ', s2)"
   ]
  },
  {
   "cell_type": "markdown",
   "metadata": {},
   "source": [
    "### dict"
   ]
  },
  {
   "cell_type": "code",
   "execution_count": 120,
   "metadata": {},
   "outputs": [
    {
     "name": "stdout",
     "output_type": "stream",
     "text": [
      "True | <class 'dict'>\n"
     ]
    }
   ],
   "source": [
    "d = {}\n",
    "dd = dict()\n",
    "\n",
    "print(d == dd, '|', type(d))"
   ]
  },
  {
   "cell_type": "code",
   "execution_count": 121,
   "metadata": {},
   "outputs": [
    {
     "data": {
      "text/plain": [
       "['__class__',\n",
       " '__contains__',\n",
       " '__delattr__',\n",
       " '__delitem__',\n",
       " '__dir__',\n",
       " '__doc__',\n",
       " '__eq__',\n",
       " '__format__',\n",
       " '__ge__',\n",
       " '__getattribute__',\n",
       " '__getitem__',\n",
       " '__gt__',\n",
       " '__hash__',\n",
       " '__init__',\n",
       " '__init_subclass__',\n",
       " '__iter__',\n",
       " '__le__',\n",
       " '__len__',\n",
       " '__lt__',\n",
       " '__ne__',\n",
       " '__new__',\n",
       " '__reduce__',\n",
       " '__reduce_ex__',\n",
       " '__repr__',\n",
       " '__setattr__',\n",
       " '__setitem__',\n",
       " '__sizeof__',\n",
       " '__str__',\n",
       " '__subclasshook__',\n",
       " 'clear',\n",
       " 'copy',\n",
       " 'fromkeys',\n",
       " 'get',\n",
       " 'items',\n",
       " 'keys',\n",
       " 'pop',\n",
       " 'popitem',\n",
       " 'setdefault',\n",
       " 'update',\n",
       " 'values']"
      ]
     },
     "execution_count": 121,
     "metadata": {},
     "output_type": "execute_result"
    }
   ],
   "source": [
    "dir(dict)"
   ]
  },
  {
   "cell_type": "code",
   "execution_count": 122,
   "metadata": {},
   "outputs": [
    {
     "data": {
      "text/plain": [
       "{'a': 100}"
      ]
     },
     "execution_count": 122,
     "metadata": {},
     "output_type": "execute_result"
    }
   ],
   "source": [
    "d['a'] = 100\n",
    "d"
   ]
  },
  {
   "cell_type": "code",
   "execution_count": 123,
   "metadata": {},
   "outputs": [
    {
     "data": {
      "text/plain": [
       "{'long': 'dictionary', 'short': 'dict'}"
      ]
     },
     "execution_count": 123,
     "metadata": {},
     "output_type": "execute_result"
    }
   ],
   "source": [
    "d = dict(short='dict', long='dictionary')\n",
    "d"
   ]
  },
  {
   "cell_type": "code",
   "execution_count": 124,
   "metadata": {},
   "outputs": [
    {
     "data": {
      "text/plain": [
       "{1: 1, 2: 4}"
      ]
     },
     "execution_count": 124,
     "metadata": {},
     "output_type": "execute_result"
    }
   ],
   "source": [
    "d = dict([(1, 1), (2, 4)])\n",
    "d"
   ]
  },
  {
   "cell_type": "code",
   "execution_count": 125,
   "metadata": {},
   "outputs": [
    {
     "data": {
      "text/plain": [
       "{'a': None, 'b': None}"
      ]
     },
     "execution_count": 125,
     "metadata": {},
     "output_type": "execute_result"
    }
   ],
   "source": [
    "d = dict.fromkeys(['a', 'b'])\n",
    "d"
   ]
  },
  {
   "cell_type": "code",
   "execution_count": 126,
   "metadata": {},
   "outputs": [
    {
     "data": {
      "text/plain": [
       "{'a': 100, 'b': 100}"
      ]
     },
     "execution_count": 126,
     "metadata": {},
     "output_type": "execute_result"
    }
   ],
   "source": [
    "d = dict.fromkeys(['a', 'b'], 100)\n",
    "d"
   ]
  },
  {
   "cell_type": "markdown",
   "metadata": {},
   "source": [
    "**dict comprehensions**"
   ]
  },
  {
   "cell_type": "code",
   "execution_count": 127,
   "metadata": {},
   "outputs": [
    {
     "data": {
      "text/plain": [
       "{0: 0, 1: 1, 2: 4, 3: 9, 4: 16, 5: 25, 6: 36}"
      ]
     },
     "execution_count": 127,
     "metadata": {},
     "output_type": "execute_result"
    }
   ],
   "source": [
    "d = {a: a ** 2 for a in range(7)}\n",
    "d"
   ]
  },
  {
   "cell_type": "markdown",
   "metadata": {},
   "source": [
    "### !"
   ]
  },
  {
   "cell_type": "markdown",
   "metadata": {},
   "source": [
    "Будьте осторожны, если ключа, по которому поступил запрос, нет в словаре, то выбросит исключение:"
   ]
  },
  {
   "cell_type": "code",
   "execution_count": 128,
   "metadata": {},
   "outputs": [
    {
     "ename": "KeyError",
     "evalue": "'a'",
     "output_type": "error",
     "traceback": [
      "\u001b[1;31m---------------------------------------------------------------------------\u001b[0m",
      "\u001b[1;31mKeyError\u001b[0m                                  Traceback (most recent call last)",
      "\u001b[1;32m<ipython-input-128-f720f82c9ca2>\u001b[0m in \u001b[0;36m<module>\u001b[1;34m()\u001b[0m\n\u001b[0;32m      1\u001b[0m \u001b[0md\u001b[0m \u001b[1;33m=\u001b[0m \u001b[1;33m{\u001b[0m\u001b[1;36m1\u001b[0m\u001b[1;33m:\u001b[0m \u001b[1;36m100\u001b[0m\u001b[1;33m,\u001b[0m \u001b[1;36m2\u001b[0m\u001b[1;33m:\u001b[0m \u001b[1;36m200\u001b[0m\u001b[1;33m,\u001b[0m \u001b[1;36m3\u001b[0m\u001b[1;33m:\u001b[0m \u001b[1;36m300\u001b[0m\u001b[1;33m}\u001b[0m\u001b[1;33m\u001b[0m\u001b[0m\n\u001b[1;32m----> 2\u001b[1;33m \u001b[0md\u001b[0m\u001b[1;33m[\u001b[0m\u001b[1;34m'a'\u001b[0m\u001b[1;33m]\u001b[0m\u001b[1;33m\u001b[0m\u001b[0m\n\u001b[0m",
      "\u001b[1;31mKeyError\u001b[0m: 'a'"
     ]
    }
   ],
   "source": [
    "d = {1: 100, 2: 200, 3: 300}\n",
    "d['a']"
   ]
  },
  {
   "cell_type": "markdown",
   "metadata": {},
   "source": [
    "Поэтому безопаснее использовать **get(key)**. Тогда, если нужно, можно проверить на **None**:"
   ]
  },
  {
   "cell_type": "code",
   "execution_count": 129,
   "metadata": {},
   "outputs": [
    {
     "data": {
      "text/plain": [
       "100"
      ]
     },
     "execution_count": 129,
     "metadata": {},
     "output_type": "execute_result"
    }
   ],
   "source": [
    "d.get(1)"
   ]
  },
  {
   "cell_type": "code",
   "execution_count": 130,
   "metadata": {},
   "outputs": [
    {
     "data": {
      "text/plain": [
       "True"
      ]
     },
     "execution_count": 130,
     "metadata": {},
     "output_type": "execute_result"
    }
   ],
   "source": [
    "d.get('a') == None"
   ]
  },
  {
   "cell_type": "markdown",
   "metadata": {},
   "source": [
    "Самое часто используемое - получение ключей, получение значений и получение всего вместе:"
   ]
  },
  {
   "cell_type": "code",
   "execution_count": 131,
   "metadata": {},
   "outputs": [
    {
     "name": "stdout",
     "output_type": "stream",
     "text": [
      "dict_keys([1, 2, 3]) | <class 'dict_keys'>\n",
      "[1, 2, 3]\n"
     ]
    }
   ],
   "source": [
    "print(d.keys(), '|', type(d.keys()))\n",
    "\n",
    "\n",
    "print(list(d.keys()))"
   ]
  },
  {
   "cell_type": "code",
   "execution_count": 132,
   "metadata": {},
   "outputs": [
    {
     "name": "stdout",
     "output_type": "stream",
     "text": [
      "dict_values([100, 200, 300]) | <class 'dict_values'>\n",
      "[100, 200, 300]\n"
     ]
    }
   ],
   "source": [
    "print(d.values(), '|', type(d.values()))\n",
    "\n",
    "\n",
    "print(list(d.values()))"
   ]
  },
  {
   "cell_type": "code",
   "execution_count": 133,
   "metadata": {},
   "outputs": [
    {
     "name": "stdout",
     "output_type": "stream",
     "text": [
      "dict_items([(1, 100), (2, 200), (3, 300)]) | <class 'dict_items'>\n",
      "[(1, 100), (2, 200), (3, 300)]\n"
     ]
    }
   ],
   "source": [
    "print(d.items(), '|', type(d.items()))\n",
    "\n",
    "\n",
    "print(list(d.items()))"
   ]
  },
  {
   "cell_type": "markdown",
   "metadata": {
    "collapsed": true
   },
   "source": [
    "### modules"
   ]
  },
  {
   "cell_type": "markdown",
   "metadata": {
    "collapsed": true
   },
   "source": [
    "**Модули** - это \"библиотеки\" Python. То есть это самостоятельные, объединённые технически и логически, именованные части Python кода"
   ]
  },
  {
   "cell_type": "markdown",
   "metadata": {
    "collapsed": true
   },
   "source": [
    "* О модулях необходимо знать только одно - как их импортировать:"
   ]
  },
  {
   "cell_type": "code",
   "execution_count": 134,
   "metadata": {
    "collapsed": true
   },
   "outputs": [],
   "source": [
    "import collections"
   ]
  },
  {
   "cell_type": "markdown",
   "metadata": {},
   "source": [
    "* Импортировать только какой-то компонент из модуля:"
   ]
  },
  {
   "cell_type": "code",
   "execution_count": 135,
   "metadata": {
    "collapsed": true
   },
   "outputs": [],
   "source": [
    "from collections import Counter"
   ]
  },
  {
   "cell_type": "markdown",
   "metadata": {},
   "source": [
    "* Импортировать с другим именем (чаще всего используется для локаничности кода):"
   ]
  },
  {
   "cell_type": "code",
   "execution_count": 136,
   "metadata": {
    "collapsed": true
   },
   "outputs": [],
   "source": [
    "import collections as cool_lib"
   ]
  },
  {
   "cell_type": "code",
   "execution_count": 137,
   "metadata": {
    "collapsed": true
   },
   "outputs": [],
   "source": [
    "count = cool_lib.Counter()"
   ]
  },
  {
   "cell_type": "markdown",
   "metadata": {},
   "source": [
    "Жизненный пример:"
   ]
  },
  {
   "cell_type": "code",
   "execution_count": 138,
   "metadata": {
    "collapsed": true
   },
   "outputs": [],
   "source": [
    "import numpy as np"
   ]
  },
  {
   "cell_type": "markdown",
   "metadata": {},
   "source": [
    "### files"
   ]
  },
  {
   "cell_type": "code",
   "execution_count": 139,
   "metadata": {
    "collapsed": true
   },
   "outputs": [],
   "source": [
    "path = './20_newsgroups/sci.space/62478'"
   ]
  },
  {
   "cell_type": "code",
   "execution_count": 140,
   "metadata": {},
   "outputs": [
    {
     "name": "stdout",
     "output_type": "stream",
     "text": [
      "Xref: cantaloupe.srv.cs.cmu.edu sci.environment:30750 misc.consumers:69256 misc.invest:42673 sci.astro:36051 talk.environment:12248 talk.politics.space:2872 sci.space:62478 rec.backcountry:32315 misc.rural:6338 misc.headlines:42267 misc.legal:63426\n",
      "\n"
     ]
    }
   ],
   "source": [
    "file = open(path, mode='r')\n",
    "print([line for line in file][0])\n",
    "file.close()"
   ]
  },
  {
   "cell_type": "markdown",
   "metadata": {},
   "source": [
    "| Режим | Обозначение |\n",
    "|-------|-------------|\n",
    "| **'r'**  | Открытие на **чтение** (является значением по умолчанию) |\n",
    "| **'rb'** | Открытие на **чтение**, в предположении, что будут считываться **байты** |\n",
    "| **'w'** | Открытие на **запись**, содержимое файла удаляется. Если файла не существует, создается новый |\n",
    "| **'wb**' | Открытие на **запись байтов**, содержимое файла удаляется. Если файла не существует, создается новый |\n",
    "| **'a'** | Открытие на **дозапись**, информация добавляется **в конец файла** |\n",
    "| **'r+'** | Открыть файл на **чтение И запись**. Если файла нет, **новый НЕ создаётся** |\n",
    "| **'a+'** | Открыть файл на **чтение И запись в конец файла**. Если файла нет, **новый создаётся** |\n",
    "| **'t'** | Открытие файла **как текстового** (по умолчанию) |"
   ]
  },
  {
   "cell_type": "code",
   "execution_count": 141,
   "metadata": {},
   "outputs": [
    {
     "name": "stdout",
     "output_type": "stream",
     "text": [
      "Xref: cantaloupe.srv.cs.cmu.edu sci.environment:30750 misc.consumers:69256 misc.invest:42673 sci.astro:36051 talk.environment:12248 talk.politics.space:2872 sci.space:62478 rec.backcountry:32315 misc.rural:6338 misc.headlines:42267 misc.legal:63426\n",
      "\n",
      "Newsgroups: sci.environment,misc.consumers,misc.invest,sci.astro,talk.environment,talk.politics.space,sci.space,rec.backcountry,misc.rural,misc.headlines,k12.chat.teacher,misc.legal\n",
      "\n",
      "Path: cantaloupe.srv.cs.cmu.edu!rochester!udel!darwin.sura.net!zaphod.mps.ohio-state.edu!news.acns.nwu.edu!schur!len\n",
      "\n",
      "From: len@schur.math.nwu.edu (Len Evens)\n",
      "\n",
      "Subject: Re: Space Marketing would be wonderfull.\n",
      "\n",
      "Message-ID: <1993May17.133444.5922@news.acns.nwu.edu>\n",
      "\n",
      "Sender: usenet@news.acns.nwu.edu (Usenet on news.acns)\n",
      "\n",
      "Nntp-Posting-Host: schur.math.nwu.edu\n",
      "\n",
      "Organization: Dept of Math, Northwestern Univ\n",
      "\n",
      "References: <C75A0p.8DK@news.cso.uiuc.edu> <pgf.737604987@srl03.cacs.usl.edu> <C760Dv.K75@agora.rain.com>\n",
      "\n",
      "Date: Mon, 17 May 1993 13:34:44 GMT\n",
      "\n",
      "Lines: 61\n",
      "\n",
      "\n",
      "\n",
      "In article <C760Dv.K75@agora.rain.com> jhart@agora.rain.com (Jim Hart) writes:\n",
      "\n",
      ">\n",
      "\n",
      ">If anybody has a strong claim to control of the  the night sky, it is \n",
      "\n",
      ">astronomers.  Check out the common law.  In the days when wild lands\n",
      "\n",
      ">weren't scarce, pioneers laid claim to the land by putting it to\n",
      "\n",
      ">use, eg clearing and growing a crop.  Even trespassers can lay claim to \n",
      "\n",
      ">the right of passage if if they've done it for long enough and the\n",
      "\n",
      ">owners have not complained or taken steps to stop them.  Usage\n",
      "\n",
      ">begets property rights.\n",
      "\n",
      ">\n",
      "\n",
      ">Astronomers have been using the night sky for thousands of years --\n",
      "\n",
      ">they own it. \n",
      "\n",
      ">(eg light polluters), they will lose their common-law right of ownership.\n",
      "\n",
      ">\n",
      "\n",
      ">Another consequence of their ownership is that they are free to sell\n",
      "\n",
      ">it.  Now, astronomers need money for their work.  If light\n",
      "\n",
      ">polluting billboards and mirrors go up, they will need even\n",
      "\n",
      ">more money to buy extra image processing equipment, filters,\n",
      "\n",
      ">space telescopes etc. to get around the problem.\n",
      "\n",
      ">\n",
      "\n",
      ">So, as long as we can define who \"astronomers\" are (eg do\n",
      "\n",
      ">\"they\" include amateur astronomers?  Nature lovers?)\n",
      "\n",
      ">we can set up a system of voluntary consensus to solve this\n",
      "\n",
      ">dispute, instead invoking bans, regulations, etc. enforced\n",
      "\n",
      ">by bribed politicians at the point of a gun (why do folks always\n",
      "\n",
      ">think of that sordid solution, \"we ought to pass a law\", to\n",
      "\n",
      ">solve problems first instead of as a last resort when other\n",
      "\n",
      ">methods have failed?)\n",
      "\n",
      ">\n",
      "\n",
      "[Stuff deleted]\n",
      "\n",
      ">  This proposal certainly needs work, but how about working on \n",
      "\n",
      ">these kind of ideas first before writing \"there ought to be a law\" \n",
      "\n",
      ">letters to our Congresscritters: let's give noncoercive consensus, via \n",
      "\n",
      ">the free market, a chance to solve this problem.\n",
      "\n",
      ">\n",
      "\n",
      ">Jim Hart\n",
      "\n",
      ">jhart@agora.rain.com\n",
      "\n",
      "\n",
      "\n",
      "Would Mr. Hart please explain how one could get every nation on\n",
      "\n",
      "earth and every corporation to agree that astronomers own the\n",
      "\n",
      "night sky without `coercion'.   Remember that not every nation\n",
      "\n",
      "follows the English common law.   In most countries, for most of\n",
      "\n",
      "history, it was probably true that the rulers `owned' everything\n",
      "\n",
      "not explicitly owned by individuals.   Even in North America,\n",
      "\n",
      "where by the principle enunciated, the aboriginal inhabitants should\n",
      "\n",
      "have owned everything, when new arrivals wanted to use land\n",
      "\n",
      "and resources, they just took it over.  In case Mr. Hart hasn't noticed,\n",
      "\n",
      "there is currently a brutal war going on in Bosnia about who owns what.\n",
      "\n",
      "Of course, if some friendly super power were to give an international\n",
      "\n",
      "astronomy organization some anti-satelite missiles and also agree\n",
      "\n",
      "to defend it if attacked, such a proposal might work, but it\n",
      "\n",
      "would hardly be non-coercive.\n",
      "\n",
      "\n",
      "\n",
      "Some of us nutty environmentalists think it might make sense first\n",
      "\n",
      "to try to mobilize public opinion against advertising in space\n",
      "\n",
      "and also to use governmental actions (like taxing power, for example)\n",
      "\n",
      "to discourage them.   This of course would be too coercive for\n",
      "\n",
      "Mr. Hart.\n",
      "\n",
      "\n",
      "\n",
      "Leonard Evens      len@math.nwu.edu      708-491-5537\n",
      "\n",
      "Dept. of Mathematics, Northwestern Univ., Evanston, IL 60208\n",
      "\n"
     ]
    }
   ],
   "source": [
    "with open(path, mode='r') as test_file:\n",
    "    for line in test_file:\n",
    "        print(line)"
   ]
  },
  {
   "cell_type": "markdown",
   "metadata": {},
   "source": [
    "### classes"
   ]
  },
  {
   "cell_type": "code",
   "execution_count": 142,
   "metadata": {
    "collapsed": true
   },
   "outputs": [],
   "source": [
    "class Human:\n",
    "    def __init__(self, name='', age=None, deep_learning_specialist=False):\n",
    "        self.name = name\n",
    "        self.age = age\n",
    "        self.deep_learning_specialist = deep_learning_specialist\n",
    "    \n",
    "    def set_age(self, age):\n",
    "        self.age = age\n",
    "    \n",
    "    def get_age(self):\n",
    "        return self.age\n",
    "    \n",
    "    def __str__(self):\n",
    "        return 'Name: {}\\nAge: {} \\\n",
    "                \\nIs deep learning specialist: {}'.format(self.name, self.age, \n",
    "                                                          self.deep_learning_specialist)\n",
    "\n",
    "class DLSchoolStudent(Human):\n",
    "    def __init__(self, name='', age=None, deep_learning_specialist=False):\n",
    "        super().__init__(name, age, deep_learning_specialist)\n",
    "        self.total_grade = None\n",
    "        self.deep_learning_specialist = True\n",
    "    \n",
    "    def __str__(self):\n",
    "        return super().__str__()"
   ]
  },
  {
   "cell_type": "code",
   "execution_count": 143,
   "metadata": {},
   "outputs": [
    {
     "name": "stdout",
     "output_type": "stream",
     "text": [
      "Name: Person\n",
      "Age: 17                 \n",
      "Is deep learning specialist: False\n"
     ]
    }
   ],
   "source": [
    "human = Human('Person', 17)\n",
    "print(human)"
   ]
  },
  {
   "cell_type": "code",
   "execution_count": 144,
   "metadata": {},
   "outputs": [
    {
     "name": "stdout",
     "output_type": "stream",
     "text": [
      "Name: Good Person\n",
      "Age: 18                 \n",
      "Is deep learning specialist: True\n"
     ]
    }
   ],
   "source": [
    "student = DLSchoolStudent('Good Person', 18)\n",
    "print(student)"
   ]
  },
  {
   "cell_type": "markdown",
   "metadata": {},
   "source": [
    "### exceptions"
   ]
  },
  {
   "cell_type": "code",
   "execution_count": 145,
   "metadata": {},
   "outputs": [
    {
     "data": {
      "text/plain": [
       "['ArithmeticError',\n",
       " 'AssertionError',\n",
       " 'AttributeError',\n",
       " 'BaseException',\n",
       " 'BlockingIOError',\n",
       " 'BrokenPipeError',\n",
       " 'BufferError',\n",
       " 'BytesWarning',\n",
       " 'ChildProcessError',\n",
       " 'ConnectionAbortedError',\n",
       " 'ConnectionError',\n",
       " 'ConnectionRefusedError',\n",
       " 'ConnectionResetError',\n",
       " 'DeprecationWarning',\n",
       " 'EOFError',\n",
       " 'Ellipsis',\n",
       " 'EnvironmentError',\n",
       " 'Exception',\n",
       " 'False',\n",
       " 'FileExistsError',\n",
       " 'FileNotFoundError',\n",
       " 'FloatingPointError',\n",
       " 'FutureWarning',\n",
       " 'GeneratorExit',\n",
       " 'IOError',\n",
       " 'ImportError',\n",
       " 'ImportWarning',\n",
       " 'IndentationError',\n",
       " 'IndexError',\n",
       " 'InterruptedError',\n",
       " 'IsADirectoryError',\n",
       " 'KeyError',\n",
       " 'KeyboardInterrupt',\n",
       " 'LookupError',\n",
       " 'MemoryError',\n",
       " 'ModuleNotFoundError',\n",
       " 'NameError',\n",
       " 'None',\n",
       " 'NotADirectoryError',\n",
       " 'NotImplemented',\n",
       " 'NotImplementedError',\n",
       " 'OSError',\n",
       " 'OverflowError',\n",
       " 'PendingDeprecationWarning',\n",
       " 'PermissionError',\n",
       " 'ProcessLookupError',\n",
       " 'RecursionError',\n",
       " 'ReferenceError',\n",
       " 'ResourceWarning',\n",
       " 'RuntimeError',\n",
       " 'RuntimeWarning',\n",
       " 'StopAsyncIteration',\n",
       " 'StopIteration',\n",
       " 'SyntaxError',\n",
       " 'SyntaxWarning',\n",
       " 'SystemError',\n",
       " 'SystemExit',\n",
       " 'TabError',\n",
       " 'TimeoutError',\n",
       " 'True',\n",
       " 'TypeError',\n",
       " 'UnboundLocalError',\n",
       " 'UnicodeDecodeError',\n",
       " 'UnicodeEncodeError',\n",
       " 'UnicodeError',\n",
       " 'UnicodeTranslateError',\n",
       " 'UnicodeWarning',\n",
       " 'UserWarning',\n",
       " 'ValueError',\n",
       " 'Warning',\n",
       " 'WindowsError',\n",
       " 'ZeroDivisionError',\n",
       " '__IPYTHON__',\n",
       " '__build_class__',\n",
       " '__debug__',\n",
       " '__doc__',\n",
       " '__import__',\n",
       " '__loader__',\n",
       " '__name__',\n",
       " '__package__',\n",
       " '__spec__',\n",
       " 'abs',\n",
       " 'all',\n",
       " 'any',\n",
       " 'ascii',\n",
       " 'bin',\n",
       " 'bool',\n",
       " 'bytearray',\n",
       " 'bytes',\n",
       " 'callable',\n",
       " 'chr',\n",
       " 'classmethod',\n",
       " 'compile',\n",
       " 'complex',\n",
       " 'copyright',\n",
       " 'credits',\n",
       " 'delattr',\n",
       " 'dict',\n",
       " 'dir',\n",
       " 'divmod',\n",
       " 'dreload',\n",
       " 'enumerate',\n",
       " 'eval',\n",
       " 'exec',\n",
       " 'filter',\n",
       " 'float',\n",
       " 'format',\n",
       " 'frozenset',\n",
       " 'get_ipython',\n",
       " 'getattr',\n",
       " 'globals',\n",
       " 'hasattr',\n",
       " 'hash',\n",
       " 'help',\n",
       " 'hex',\n",
       " 'id',\n",
       " 'input',\n",
       " 'int',\n",
       " 'isinstance',\n",
       " 'issubclass',\n",
       " 'iter',\n",
       " 'len',\n",
       " 'license',\n",
       " 'list',\n",
       " 'locals',\n",
       " 'map',\n",
       " 'max',\n",
       " 'memoryview',\n",
       " 'min',\n",
       " 'next',\n",
       " 'object',\n",
       " 'oct',\n",
       " 'open',\n",
       " 'ord',\n",
       " 'pow',\n",
       " 'print',\n",
       " 'property',\n",
       " 'range',\n",
       " 'repr',\n",
       " 'reversed',\n",
       " 'round',\n",
       " 'set',\n",
       " 'setattr',\n",
       " 'slice',\n",
       " 'sorted',\n",
       " 'staticmethod',\n",
       " 'str',\n",
       " 'sum',\n",
       " 'super',\n",
       " 'tuple',\n",
       " 'type',\n",
       " 'vars',\n",
       " 'zip']"
      ]
     },
     "execution_count": 145,
     "metadata": {},
     "output_type": "execute_result"
    }
   ],
   "source": [
    "dir(__builtin__)"
   ]
  },
  {
   "cell_type": "code",
   "execution_count": 146,
   "metadata": {},
   "outputs": [
    {
     "ename": "KeyboardInterrupt",
     "evalue": "",
     "output_type": "error",
     "traceback": [
      "\u001b[1;31m---------------------------------------------------------------------------\u001b[0m",
      "\u001b[1;31mKeyboardInterrupt\u001b[0m                         Traceback (most recent call last)",
      "\u001b[1;32m<ipython-input-146-e6a7eeb453df>\u001b[0m in \u001b[0;36m<module>\u001b[1;34m()\u001b[0m\n\u001b[1;32m----> 1\u001b[1;33m \u001b[1;32mraise\u001b[0m \u001b[0mKeyboardInterrupt\u001b[0m\u001b[1;33m(\u001b[0m\u001b[1;33m)\u001b[0m\u001b[1;33m\u001b[0m\u001b[0m\n\u001b[0m",
      "\u001b[1;31mKeyboardInterrupt\u001b[0m: "
     ]
    }
   ],
   "source": [
    "raise KeyboardInterrupt()"
   ]
  },
  {
   "cell_type": "code",
   "execution_count": 147,
   "metadata": {},
   "outputs": [
    {
     "ename": "KeyError",
     "evalue": "'NEW'",
     "output_type": "error",
     "traceback": [
      "\u001b[1;31m---------------------------------------------------------------------------\u001b[0m",
      "\u001b[1;31mKeyError\u001b[0m                                  Traceback (most recent call last)",
      "\u001b[1;32m<ipython-input-147-783d73523b4f>\u001b[0m in \u001b[0;36m<module>\u001b[1;34m()\u001b[0m\n\u001b[0;32m      1\u001b[0m \u001b[0mmy_dict\u001b[0m \u001b[1;33m=\u001b[0m \u001b[1;33m{\u001b[0m\u001b[1;36m1\u001b[0m\u001b[1;33m:\u001b[0m \u001b[1;36m100\u001b[0m\u001b[1;33m,\u001b[0m \u001b[1;36m2\u001b[0m\u001b[1;33m:\u001b[0m \u001b[1;36m200\u001b[0m\u001b[1;33m}\u001b[0m\u001b[1;33m\u001b[0m\u001b[0m\n\u001b[1;32m----> 2\u001b[1;33m \u001b[0mprint\u001b[0m\u001b[1;33m(\u001b[0m\u001b[0mmy_dict\u001b[0m\u001b[1;33m[\u001b[0m\u001b[1;34m'NEW'\u001b[0m\u001b[1;33m]\u001b[0m\u001b[1;33m)\u001b[0m\u001b[1;33m\u001b[0m\u001b[0m\n\u001b[0m",
      "\u001b[1;31mKeyError\u001b[0m: 'NEW'"
     ]
    }
   ],
   "source": [
    "my_dict = {1: 100, 2: 200}\n",
    "print(my_dict['NEW'])"
   ]
  },
  {
   "cell_type": "code",
   "execution_count": 148,
   "metadata": {},
   "outputs": [
    {
     "name": "stdout",
     "output_type": "stream",
     "text": [
      "Caught KeyError!\n"
     ]
    }
   ],
   "source": [
    "try:\n",
    "    my_dict = {1: 100, 2: 200}\n",
    "    print(my_dict['NEW'])\n",
    "except KeyError:\n",
    "    print('Caught KeyError!')"
   ]
  },
  {
   "cell_type": "markdown",
   "metadata": {},
   "source": [
    "### Полезные библиотеки Python"
   ]
  },
  {
   "cell_type": "markdown",
   "metadata": {},
   "source": [
    "### glob"
   ]
  },
  {
   "cell_type": "code",
   "execution_count": 8,
   "metadata": {
    "collapsed": true
   },
   "outputs": [],
   "source": [
    "import glob"
   ]
  },
  {
   "cell_type": "code",
   "execution_count": 150,
   "metadata": {
    "scrolled": true
   },
   "outputs": [
    {
     "name": "stdout",
     "output_type": "stream",
     "text": [
      " Volume in drive C is Windows\n",
      " Volume Serial Number is 6A96-3077\n",
      "\n",
      " Directory of C:\\Users\\kiril\\Dev\\dlschl\\seminars\\1st_seminar_python\\basics\n",
      "\n",
      "28-Oct-17  19:59    <DIR>          .\n",
      "28-Oct-17  19:59    <DIR>          ..\n",
      "28-Oct-17  18:45    <DIR>          .ipynb_checkpoints\n",
      "28-Oct-17  18:41    <DIR>          20_newsgroups\n",
      "28-Oct-17  18:41           131,745 D.jpg\n",
      "28-Oct-17  18:41           220,991 dice.png\n",
      "28-Oct-17  18:41           131,745 dl.jpg\n",
      "28-Oct-17  19:59           107,714 python_basics.ipynb\n",
      "28-Oct-17  18:41    <DIR>          test_data\n",
      "28-Oct-17  18:41    <DIR>          train_data\n",
      "               4 File(s)        592,195 bytes\n",
      "               6 Dir(s)  82,116,558,848 bytes free\n"
     ]
    }
   ],
   "source": [
    "!dir"
   ]
  },
  {
   "cell_type": "code",
   "execution_count": 151,
   "metadata": {},
   "outputs": [
    {
     "data": {
      "text/plain": [
       "[]"
      ]
     },
     "execution_count": 151,
     "metadata": {},
     "output_type": "execute_result"
    }
   ],
   "source": [
    "glob.glob('./[0-9].*')"
   ]
  },
  {
   "cell_type": "code",
   "execution_count": 152,
   "metadata": {},
   "outputs": [
    {
     "data": {
      "text/plain": [
       "['dice.png']"
      ]
     },
     "execution_count": 152,
     "metadata": {},
     "output_type": "execute_result"
    }
   ],
   "source": [
    "glob.glob('*.png')"
   ]
  },
  {
   "cell_type": "code",
   "execution_count": 153,
   "metadata": {},
   "outputs": [
    {
     "data": {
      "text/plain": [
       "['D.jpg']"
      ]
     },
     "execution_count": 153,
     "metadata": {},
     "output_type": "execute_result"
    }
   ],
   "source": [
    "glob.glob('?.jpg')"
   ]
  },
  {
   "cell_type": "code",
   "execution_count": 154,
   "metadata": {},
   "outputs": [
    {
     "data": {
      "text/plain": [
       "['.\\\\',\n",
       " '.\\\\20_newsgroups\\\\',\n",
       " '.\\\\20_newsgroups\\\\sci.space\\\\',\n",
       " '.\\\\test_data\\\\',\n",
       " '.\\\\train_data\\\\']"
      ]
     },
     "execution_count": 154,
     "metadata": {},
     "output_type": "execute_result"
    }
   ],
   "source": [
    "glob.glob('./**/', recursive=True)"
   ]
  },
  {
   "cell_type": "code",
   "execution_count": 155,
   "metadata": {},
   "outputs": [
    {
     "data": {
      "text/plain": [
       "['train_data\\\\1.txt', 'train_data\\\\2.txt', 'train_data\\\\3.txt']"
      ]
     },
     "execution_count": 155,
     "metadata": {},
     "output_type": "execute_result"
    }
   ],
   "source": [
    "glob.glob('**/*.txt', recursive=True)"
   ]
  },
  {
   "cell_type": "markdown",
   "metadata": {},
   "source": [
    "### tqdm"
   ]
  },
  {
   "cell_type": "markdown",
   "metadata": {},
   "source": [
    "* Устанавливаем виджеты:\n",
    "\n",
    "`pip install ipywidgets`  \n",
    "\n",
    "(или `conda install -c conda-forge ipywidgets`)\n",
    "\n",
    "* Разрешаем их использование в Jupyter Notebook:  \n",
    "\n",
    "`jupyter nbextension enable --py --sys-prefix widgetsnbextension`  \n",
    "\n",
    "* Перезагружаем ядро (Restart Kernel)  \n",
    "\n",
    "\n",
    "* Устанавливаем tqdm:  \n",
    "\n",
    "`pip install tqdm`  \n",
    "\n",
    "(или `conda install -c conda-forge tqdm`)  \n",
    "\n",
    "Больше про tqdm: https://pypi.python.org/pypi/tqdm"
   ]
  },
  {
   "cell_type": "code",
   "execution_count": 1,
   "metadata": {},
   "outputs": [],
   "source": [
    "from tqdm import tqdm\n",
    "from tqdm import tnrange, tqdm_notebook\n",
    "from time import sleep"
   ]
  },
  {
   "cell_type": "code",
   "execution_count": 4,
   "metadata": {},
   "outputs": [
    {
     "name": "stderr",
     "output_type": "stream",
     "text": [
      "100%|██████████████████████████████████████████████████████████████████████████████| 1000/1000 [00:10<00:00, 95.77it/s]\n"
     ]
    }
   ],
   "source": [
    "cnt = 0\n",
    "for i in tqdm(range(1000)):\n",
    "    sleep(0.01)\n",
    "    cnt += 1"
   ]
  },
  {
   "cell_type": "code",
   "execution_count": 5,
   "metadata": {},
   "outputs": [
    {
     "data": {
      "application/vnd.jupyter.widget-view+json": {
       "model_id": "1a971465c904477d97227ae87b57c6fa"
      }
     },
     "metadata": {},
     "output_type": "display_data"
    },
    {
     "data": {
      "application/vnd.jupyter.widget-view+json": {
       "model_id": "9354661f697741a8bef75f3b9db2ca90"
      }
     },
     "metadata": {},
     "output_type": "display_data"
    },
    {
     "data": {
      "application/vnd.jupyter.widget-view+json": {
       "model_id": "5a0f6af0a6c64114927f2d6483fa94e5"
      }
     },
     "metadata": {},
     "output_type": "display_data"
    },
    {
     "data": {
      "application/vnd.jupyter.widget-view+json": {
       "model_id": "881879b53ae9463ba953a039c4411c04"
      }
     },
     "metadata": {},
     "output_type": "display_data"
    },
    {
     "data": {
      "application/vnd.jupyter.widget-view+json": {
       "model_id": "48810a919ff14cb29c31bcde643b968a"
      }
     },
     "metadata": {},
     "output_type": "display_data"
    },
    {
     "data": {
      "application/vnd.jupyter.widget-view+json": {
       "model_id": "e21a8444730f476b9d0ac8235d601973"
      }
     },
     "metadata": {},
     "output_type": "display_data"
    },
    {
     "data": {
      "application/vnd.jupyter.widget-view+json": {
       "model_id": "88e14acf9a2e44cc91426f81df81ce2f"
      }
     },
     "metadata": {},
     "output_type": "display_data"
    },
    {
     "data": {
      "application/vnd.jupyter.widget-view+json": {
       "model_id": "32121d49077348a0b2df1657271856cb"
      }
     },
     "metadata": {},
     "output_type": "display_data"
    },
    {
     "data": {
      "application/vnd.jupyter.widget-view+json": {
       "model_id": "e64bb320103648f792fd5fc15fbb3c72"
      }
     },
     "metadata": {},
     "output_type": "display_data"
    },
    {
     "data": {
      "application/vnd.jupyter.widget-view+json": {
       "model_id": "b0b176fd0ccb403a8ad7b912f7d63d9f"
      }
     },
     "metadata": {},
     "output_type": "display_data"
    },
    {
     "data": {
      "application/vnd.jupyter.widget-view+json": {
       "model_id": "16399415bc0a48d89d8c57a3b1e2d905"
      }
     },
     "metadata": {},
     "output_type": "display_data"
    },
    {
     "name": "stdout",
     "output_type": "stream",
     "text": [
      "\n"
     ]
    }
   ],
   "source": [
    "for i in tnrange(10, desc='1st loop'):\n",
    "    for j in tqdm_notebook(range(100), desc='2nd loop', leave=False):\n",
    "        sleep(0.01)"
   ]
  },
  {
   "cell_type": "markdown",
   "metadata": {},
   "source": [
    "### collections"
   ]
  },
  {
   "cell_type": "markdown",
   "metadata": {},
   "source": [
    "* `defaultdict()` - класс словаря, у которого есть значение по умолчанию - порой очень пригождается:"
   ]
  },
  {
   "cell_type": "code",
   "execution_count": 7,
   "metadata": {
    "collapsed": true
   },
   "outputs": [],
   "source": [
    "from collections import defaultdict"
   ]
  },
  {
   "cell_type": "code",
   "execution_count": 158,
   "metadata": {},
   "outputs": [
    {
     "name": "stdout",
     "output_type": "stream",
     "text": [
      "0\n",
      "5\n"
     ]
    }
   ],
   "source": [
    "d = defaultdict(int)\n",
    "\n",
    "print(d['key'])\n",
    "\n",
    "d['key'] = 5\n",
    "print(d['key'])  # 5"
   ]
  },
  {
   "cell_type": "code",
   "execution_count": 159,
   "metadata": {},
   "outputs": [
    {
     "name": "stdout",
     "output_type": "stream",
     "text": [
      "empty\n",
      "full\n"
     ]
    }
   ],
   "source": [
    "d = defaultdict(lambda: 'empty')\n",
    "print(d['key'])\n",
    "\n",
    "d['key'] = 'full'\n",
    "print(d['key'])"
   ]
  },
  {
   "cell_type": "code",
   "execution_count": 160,
   "metadata": {},
   "outputs": [
    {
     "name": "stdout",
     "output_type": "stream",
     "text": [
      "defaultdict(<class 'list'>, {})\n",
      "defaultdict(<class 'list'>, {'list1': [100, 200]})\n",
      "[100, 200]\n"
     ]
    }
   ],
   "source": [
    "d = defaultdict(list)\n",
    "print(d)\n",
    "\n",
    "d['list1'].append(100)\n",
    "d['list1'].append(200)\n",
    "print(d)\n",
    "print(d['list1'])"
   ]
  },
  {
   "cell_type": "markdown",
   "metadata": {},
   "source": [
    "* `Counter()` - класс словаря, предназначенного для счётчиков. По сути, `== defaultdict(int)`:"
   ]
  },
  {
   "cell_type": "code",
   "execution_count": 6,
   "metadata": {
    "collapsed": true
   },
   "outputs": [],
   "source": [
    "from collections import Counter"
   ]
  },
  {
   "cell_type": "code",
   "execution_count": 162,
   "metadata": {},
   "outputs": [
    {
     "name": "stdout",
     "output_type": "stream",
     "text": [
      "Counter({'r': 228, 'o': 139, 'e': 133, 'n': 99, 't': 98, 'i': 85, 'a': 63, 's': 59, 'E': 58, 'c': 48, 'l': 43, 'd': 41, '_': 38, 'p': 37, 'm': 31, 'u': 29, 'g': 21, 'y': 21, 'b': 16, 'I': 14, 'x': 13, 'h': 12, 'W': 12, 'f': 9, 'F': 8, 'v': 8, 'N': 8, 'A': 7, 'P': 7, 'R': 7, 'S': 7, 'U': 7, 'O': 6, 'D': 6, 'T': 6, 'B': 5, 'k': 5, 'C': 5, 'w': 4, 'L': 3, 'K': 2, 'M': 2, 'z': 2, 'G': 1, 'V': 1, 'Z': 1, 'Y': 1, 'H': 1, 'j': 1})\n"
     ]
    }
   ],
   "source": [
    "counter = Counter()\n",
    "\n",
    "for word in dir(__builtin__):\n",
    "    for letter in word:\n",
    "        counter[letter] += 1  # или .update(value)\n",
    "    \n",
    "print(counter)"
   ]
  },
  {
   "cell_type": "markdown",
   "metadata": {},
   "source": [
    "---"
   ]
  },
  {
   "cell_type": "markdown",
   "metadata": {},
   "source": [
    "### Задание 6\n",
    "\n",
    "1. Создайте словарь счётчиков\n",
    "2. Создайте переменную, в которую сохраните все пути к нужным текстовым файлам *(расположены по адресу `'./20_newsgroups/sci.space/'`)*\n",
    "3. Для каждого текста (текстового файла) посчитайте сколько каждое слово (из этого текста) встретилось в этом тексте (используйте предыдущие пункты)"
   ]
  },
  {
   "cell_type": "code",
   "execution_count": 26,
   "metadata": {},
   "outputs": [
    {
     "name": "stdout",
     "output_type": "stream",
     "text": [
      "showing info https://raw.githubusercontent.com/nltk/nltk_data/gh-pages/index.xml\n"
     ]
    },
    {
     "data": {
      "text/plain": [
       "True"
      ]
     },
     "execution_count": 26,
     "metadata": {},
     "output_type": "execute_result"
    }
   ],
   "source": [
    "counter = Counter()\n",
    "import nltk\n",
    "nltk.download()"
   ]
  },
  {
   "cell_type": "code",
   "execution_count": 12,
   "metadata": {},
   "outputs": [
    {
     "name": "stdout",
     "output_type": "stream",
     "text": [
      "['./20_newsgroups/sci.space\\\\62477', './20_newsgroups/sci.space\\\\62478', './20_newsgroups/sci.space\\\\62479', './20_newsgroups/sci.space\\\\62480', './20_newsgroups/sci.space\\\\62481', './20_newsgroups/sci.space\\\\62614', './20_newsgroups/sci.space\\\\62615', './20_newsgroups/sci.space\\\\62616', './20_newsgroups/sci.space\\\\62708', './20_newsgroups/sci.space\\\\62709']\n"
     ]
    }
   ],
   "source": [
    "files = glob.glob('./20_newsgroups/sci.space/*', recursive=True)\n",
    "print(files)"
   ]
  },
  {
   "cell_type": "code",
   "execution_count": 28,
   "metadata": {},
   "outputs": [
    {
     "data": {
      "application/vnd.jupyter.widget-view+json": {
       "model_id": "563e07f4fe3b48d18f6ced7f4ff7b5bd"
      }
     },
     "metadata": {},
     "output_type": "display_data"
    },
    {
     "name": "stdout",
     "output_type": "stream",
     "text": [
      "\n"
     ]
    },
    {
     "name": "stdout",
     "output_type": "stream",
     "text": [
      "Counter({':': 286, ',': 284, '>': 266, '!': 174, 'the': 172, '--': 164, '.': 156, '@': 118, 'to': 108, 'of': 100, ')': 72, '(': 66, '<': 62, 'it': 62, 'and': 62, 'would': 60, 'a': 54, 'be': 44, 'that': 44, 'for': 40, 'I': 38, 'on': 34, 'is': 34, '?': 32, 'in': 30, 'cantaloupe.srv.cs.cmu.edu': 28, \"n't\": 26, '|': 26, 'they': 24, \"''\": 24, 'this': 24, 'sci.space': 22, 'In': 22, 'have': 22, 'not': 22, 'you': 22, 'by': 20, 'as': 20, 'at': 20, 'Newsgroups': 18, 'Path': 18, 'From': 18, 'Subject': 18, 'Message-ID': 18, 'Organization': 18, 'Date': 18, 'May': 18, '1993': 18, 'Lines': 18, 'are': 18, 'GMT': 16, '``': 16, 'The': 16, 'Re': 14, 'Space': 14, 'References': 14, 'agora.rain.com': 14, 'night': 14, 'if': 14, 'do': 14, 'but': 14, 'about': 14, \"'s\": 14, 'was': 14, 'some': 14, 'an': 14, 'howland.reston.ans.net': 14, 'so': 14, 'cost': 14, 'Hart': 12, 'sky': 12, 'law': 12, 'when': 12, 'or': 12, 'light': 12, 'what': 12, 'might': 12, 'das-news.harvard.edu': 12, 'noc.near.net': 12, 'from': 12, ';': 12, 'Xref': 10, 'sci.environment': 10, 'misc.consumers': 10, 'sci.astro': 10, 'talk.environment': 10, 'rec.backcountry': 10, 'zaphod.mps.ohio-state.edu': 10, 'Marketing': 10, 'Sender': 10, '17': 10, 'article': 10, 'writes': 10, 'If': 10, 'astronomers': 10, 'out': 10, 'were': 10, 'use': 10, 'will': 10, 'their': 10, 'money': 10, 'think': 10, 'This': 10, 'there': 10, 'every': 10, 'over': 10, 'also': 10, 'make': 10, '...': 10, 'zeus.tamu.edu': 10, 'with': 10, 'misc.invest': 8, 'talk.politics.space': 8, 'misc.rural': 8, 'misc.headlines': 8, 'k12.chat.teacher': 8, 'wonderfull': 8, 'C760Dv.K75': 8, 'Mon': 8, 'has': 8, 'eg': 8, 'can': 8, 'taken': 8, 'work': 8, 'up': 8, 'space': 8, 'etc': 8, 'around': 8, 'problem': 8, 'we': 8, 'first': 8, 'just': 8, 'course': 8, 'action': 8, 'world': 8, 'much': 8, 'University': 8, '$': 8, 'NNTP-Posting-Host': 8, 'sure': 8, 'strength': 8, '-': 8, 'lyapunov.ucsd.edu': 8, 'rochester': 6, 'news.acns.nwu.edu': 6, 'len': 6, 'jhart': 6, 'Jim': 6, 'claim': 6, 'common': 6, 'land': 6, 'right': 6, 'them': 6, 'been': 6, 'thousands': 6, 'years': 6, 'own': 6, 'ownership': 6, 'even': 6, 'more': 6, 'who': 6, 'solve': 6, 'problems': 6, 'other': 6, '[': 6, ']': 6, 'how': 6, 'give': 6, 'via': 6, 'Mr.': 6, 'one': 6, 'could': 6, 'nation': 6, 'most': 6, 'new': 6, 'case': 6, 'astronomy': 6, 'advertising': 6, 'too': 6, 'user': 6, 'Games': 6, \"'m\": 6, 'question': 6, 'its': 6, 'sats': 6, 'camp': 6, 'SAS': 6, 'fs7.ece.cmu.edu': 6, 'loss': 6, 'Is': 6, \"'re\": 6, 'something': 6, 'rcollins': 6, 'encore.com': 6, 'netcom.com': 6, 'starving': 6, 'enterprises': 6, '18': 6, 'A': 6, '&': 6, 'Distribution': 6, 'your': 6, 'oac2.hsc.uth.tmc.edu': 6, 'DC-X': 6, 'iti.org': 6, 'demonstrate': 6, 'Western': 6, 'his': 6, 'billboard': 6, 'he': 6, 'good': 6, 'mbk': 6, 'field': 6, 'bright': 6, 'misc.legal': 4, 'udel': 4, 'schur.math.nwu.edu': 4, 'Evens': 4, 'Usenet': 4, 'Nntp-Posting-Host': 4, 'Dept': 4, 'Northwestern': 4, 'C75A0p.8DK': 4, 'news.cso.uiuc.edu': 4, 'pgf.737604987': 4, 'srl03.cacs.usl.edu': 4, 'Even': 4, 'trespassers': 4, 'done': 4, 'long': 4, 'Astronomers': 4, 'using': 4, 'polluters': 4, 'lose': 4, 'common-law': 4, 'free': 4, 'need': 4, 'billboards': 4, 'telescopes': 4, 'get': 4, 'consensus': 4, 'instead': 4, 'point': 4, 'why': 4, 'ought': 4, 'proposal': 4, 'needs': 4, 'these': 4, 'kind': 4, 'writing': 4, 'agree': 4, \"'\": 4, 'English': 4, 'everything': 4, 'owned': 4, 'where': 4, 'wanted': 4, 'going': 4, 'Of': 4, 'power': 4, 'international': 4, 'such': 4, 'us': 4, 'try': 4, 'opinion': 4, 'against': 4, 'like': 4, 'cs.utexas.edu': 4, 'uunet': 4, 'Mad': 4, 'Vlad': 4, 'Followup-To': 4, 'thought': 4, 'place': 4, 'my': 4, 'Patriot': 4, 'CIA': 4, 'And': 4, 'team': 4, 'watching': 4, 'appeared': 4, 'x-ray': 4, 'see': 4, 'nature': 4, 'Who': 4, 'wrote': 4, 'fs7.ECE.CMU.EDU': 4, 'Doug': 4, 'Loss': 4, 'news': 4, 'Computer': 4, 'now': 4, 'all': 4, 'talking': 4, 'very': 4, 'gatech': 4, 'ux1.cso.uiuc.edu': 4, 'ns.encore.com': 4, 'Roger': 4, 'Collins': 4, 'C74rGL.4u7': 4, 'ucdavis.edu': 4, 'geoffmC7508L.F1K': 4, 'spend': 4, 'children': 4, 'anyway': 4, 'service': 4, 'commercial': 4, 'government': 4, 'i0c0256': 4, 'KC-135': 4, 'Texas': 4, 'M': 4, 'Academic': 4, 'Computing': 4, 'may': 4, 'stand': 4, 'side': 4, 'disk': 4, 'edge': 4, 'since': 4, 'force': 4, 'drives': 4, 'Mac': 4, 'hardware': 4, 'coming': 4, 'people': 4, 'It': 4, '1993May14.200217.3044': 4, 'Air': 4, 'Force': 4, 'build': 4, 'SDIO': 4, 'four': 4, 'documentation': 4, 'materials': 4, 'decwrl': 4, '18084TM': 4, 'msu.edu': 4, 'Tom': 4, 'cs.cmu.edu': 4, 'sez': 4, 'anyone': 4, 'any': 4, 'impact': 4, 'observations': 4, 'capitalism': 4, 'Lichtenstein': 4, 'paving': 4, 'ground': 4, 'glass': 4, 'does': 4, 'parties': 4, '\\\\': 4, 'col.hp.com': 4, 'cab': 4, 'proposed': 4, 'small': 4, 'telescope': 4, 'network.ucsd.edu': 4, 'Kennel': 4, 'Nonlinear': 4, 'Science': 4, 'ucsu.Colorado.EDU': 4, 'Frank': 4, 'Crary': 4, 'because': 4, 'orbiting': 4, 'already': 4, 'far': 4, 'moon': 4, 'What': 4, '-***': 4, 'sci.environment:30750': 2, 'misc.consumers:69256': 2, 'misc.invest:42673': 2, 'sci.astro:36051': 2, 'talk.environment:12248': 2, 'talk.politics.space:2872': 2, 'sci.space:62478': 2, 'rec.backcountry:32315': 2, 'misc.rural:6338': 2, 'misc.headlines:42267': 2, 'misc.legal:63426': 2, 'darwin.sura.net': 2, 'schur': 2, 'Len': 2, '1993May17.133444.5922': 2, 'usenet': 2, 'news.acns': 2, 'Math': 2, 'Univ': 2, '13:34:44': 2, '61': 2, 'anybody': 2, 'strong': 2, 'control': 2, 'Check': 2, 'days': 2, 'wild': 2, 'lands': 2, 'scarce': 2, 'pioneers': 2, 'laid': 2, 'putting': 2, 'clearing': 2, 'growing': 2, 'crop': 2, 'lay': 2, 'passage': 2, \"'ve\": 2, 'enough': 2, 'owners': 2, 'complained': 2, 'steps': 2, 'stop': 2, 'Usage': 2, 'begets': 2, 'property': 2, 'rights': 2, 'Another': 2, 'consequence': 2, 'sell': 2, 'Now': 2, 'polluting': 2, 'mirrors': 2, 'go': 2, 'buy': 2, 'extra': 2, 'image': 2, 'processing': 2, 'equipment': 2, 'filters': 2, 'So': 2, 'define': 2, 'include': 2, 'amateur': 2, 'Nature': 2, 'lovers': 2, 'set': 2, 'system': 2, 'voluntary': 2, 'dispute': 2, 'invoking': 2, 'bans': 2, 'regulations': 2, 'enforced': 2, 'bribed': 2, 'politicians': 2, 'gun': 2, 'folks': 2, 'always': 2, 'sordid': 2, 'solution': 2, 'pass': 2, 'last': 2, 'resort': 2, 'methods': 2, 'failed': 2, 'Stuff': 2, 'deleted': 2, 'certainly': 2, 'working': 2, 'ideas': 2, 'before': 2, 'letters': 2, 'our': 2, 'Congresscritters': 2, 'let': 2, 'noncoercive': 2, 'market': 2, 'chance': 2, 'Would': 2, 'please': 2, 'explain': 2, 'earth': 2, 'corporation': 2, 'without': 2, '`coercion': 2, 'Remember': 2, 'follows': 2, 'countries': 2, 'history': 2, 'probably': 2, 'true': 2, 'rulers': 2, '`owned': 2, 'explicitly': 2, 'individuals': 2, 'North': 2, 'America': 2, 'principle': 2, 'enunciated': 2, 'aboriginal': 2, 'inhabitants': 2, 'should': 2, 'arrivals': 2, 'resources': 2, 'took': 2, 'noticed': 2, 'currently': 2, 'brutal': 2, 'war': 2, 'Bosnia': 2, 'owns': 2, 'friendly': 2, 'super': 2, 'organization': 2, 'anti-satelite': 2, 'missiles': 2, 'defend': 2, 'attacked': 2, 'hardly': 2, 'non-coercive': 2, 'Some': 2, 'nutty': 2, 'environmentalists': 2, 'sense': 2, 'mobilize': 2, 'public': 2, 'governmental': 2, 'actions': 2, 'taxing': 2, 'example': 2, 'discourage': 2, 'coercive': 2, 'Leonard': 2, 'math.nwu.edu': 2, '708-491-5537': 2, 'Mathematics': 2, 'Univ.': 2, 'Evanston': 2, 'IL': 2, '60208': 2, 'nih-csl': 2, 'NewsWatcher': 2, 'england': 2, 'helix.nih.gov': 2, 'Satellite': 2, 'Capabilities-Patriot': 2, 'england-170593093754': 2, '156.40.182.12': 2, 'postman': 2, 'alw.nih.gov': 2, 'AMDS': 2, 'Postmaster': 2, \"Nat'l\": 2, 'Inst': 2, 'Health': 2, '13:37:43': 2, '20': 2, 'Hello': 2, 'netters': 2, 'board': 2, 'best': 2, 'post': 2, 'regarding': 2, 'satellite': 2, 'technology': 2, 'seen': 2, 'movie': 2, 'movies': 2, 'utilizes': 2, 'orbitting': 2, 'pinpoint': 2, 'specific': 2, 'terrorist': 2, 'N': 2, 'Africa': 2, 'photos': 2, 'stunning': 2, 'know': 2, 'capable': 2, 'photographing': 2, 'license': 2, 'plates': 2, 'vehicles': 2, 'My': 2, 'British': 2, 'while': 2, 'warroom': 2, 'back': 2, 'Langley': 2, 'VA': 2, 'clear': 2, 'relayed': 2, 'sat': 2, 'photography': 2, 'type': 2, 'That': 2, 'within': 2, 'tents/structures': 2, 'Does': 2, 'techology': 2, 'exist': 2, 'i.e.': 2, 'UV': 2, 'IR': 2, 'PS': 2, 'book': 2, 'sci.environment:30751': 2, 'misc.consumers:69257': 2, 'misc.invest:42674': 2, 'sci.astro:36052': 2, 'talk.environment:12249': 2, 'talk.politics.space:2873': 2, 'sci.space:62480': 2, 'rec.backcountry:32316': 2, 'misc.rural:6339': 2, 'misc.headlines:42268': 2, 'misc.legal:63427': 2, 'europa.eng.gtefsd.com': 2, 'C76BMs.8x5': 2, 'USENET': 2, 'News': 2, 'System': 2, 'Electrical': 2, 'Engineering': 2, 'Carnegie': 2, 'Mellon': 2, '13:47:13': 2, 'complain': 2, 'scenic': 2, 'American': 2, 'Canadian': 2, 'recognized': 2, 'legally': 2, 'binding': 2, 'under': 2, 'After': 2, 'limited': 2, 'territory': 2, 'husky.bloomu.edu': 2, 'sci.environment:30752': 2, 'misc.consumers:69258': 2, 'misc.invest:42675': 2, 'sci.astro:36054': 2, 'talk.environment:12250': 2, 'sci.space:62481': 2, 'rec.backcountry:32317': 2, 'misc.rural:6340': 2, 'misc.headlines:42269': 2, 'talk.politics/space': 2, 'news.encore.com': 2, 'Reply-To': 2, 'Encore': 2, 'Corporation': 2, '13:29:04': 2, 'C76AsH.90B': 2, 'C73rp4.3G2': 2, 'lysator.liu.se': 2, 'C73u77.84x': 2, 'world.std.com': 2, 'readnews': 2, 'id': 2, 'sysgem1.encore.com': 2, '23': 2, 'geoffm': 2, 'Geoff': 2, 'Miller': 2, 'ez012344': 2, 'hamlet.ucdavis.edu': 2, 'Dan': 2, 'Herrin': 2, 'abomination': 2, 'somebody': 2, 'those': 2, 'Perhaps': 2, 'redistribution': 2, 'wealth': 2, 'help': 2, 'specious': 2, 'emotionalism': 2, 'Commercial': 2, 'typically': 2, 'least': 2, 'excess': 2, 'whatever': 2, 'minimum': 2, 'amount': 2, 'required': 2, 'lip-': 2, 'PR': 2, 'purposes': 2, 'Precisely': 2, 'threshold': 2, 'beyond': 2, 'which': 2, 'spending': 2, 'deemed': 2, 'abominable': 2, 'Yes': 2, 'Just': 2, 'take': 2, 'profitable': 2, 'redistribute': 2, 'Government': 2, 'efficient': 2, 'trustworthy': 2, 'noble': 2, 'than': 2, 'self-serving': 2, 'businesses': 2, 'Let': 2, 'nip': 2, 'redistributionist': 2, 'ignorance': 2, 'bud': 2, 'whole': 2, 'tamsun.tamu.edu': 2, 'IGOR': 2, 'Questions': 2, 'veterans': 2, '13:02': 2, 'CDT': 2, 'Services': 2, '26': 2, '18MAY199313024752': 2, '1t8h49': 2, 'a2n': 2, 'aurora.engr.LaTech.edu': 2, 'qHNP4B1w165w': 2, 'shakala.com': 2, '17MAY199318160445': 2, '1993May18.113849.15908': 2, 'mksol.dseg.ti.com': 2, 'Keywords': 2, 'experiments': 2, 'research': 2, 'News-Software': 2, 'VAX/VMS': 2, 'VNEWS': 2, '1.41': 2, 'want': 2, 'Gees': 2, 'wo': 2, 'affect': 2, 'hard': 2, 'Hmm': 2, 'being': 2, '*worse*': 2, 'tracks': 2, 'unsymmetrical': 2, 'spindle': 2, 'due': 2, 'sideways': 2, 'head': 2, 'Older': 2, 'used': 2, 'tell': 2, 'reformat': 2, 'drive': 2, '3+g': 2, 'well': 2, 'seemed': 2, 'II': 2, 'installation': 2, 'Oh': 2, 'yeah': 2, 'forgot': 2, 'mention': 2, 'though': 2, 'suppposed': 2, 'water': 2, 'IS': 2, 'condenstion': 2, 'd': 2, 'dripping': 2, 'roof': 2, 'plane': 2, 'covered': 2, 'Make': 2, 'keyboards': 2, 'protected': 2, 'two-phase': 2, 'flow': 2, 'sick': 2, 'happened': 2, '..': 2, 'Good': 2, 'luck': 2, 'Igor': 2, 'Carron': 2, 'menudo.uh.edu': 2, 'oac4.hsc.uth.tmc.edu': 2, 'cshotton': 2, 'oac.hsc.uth.tmc.edu': 2, 'Chuck': 2, 'Shotton': 2, 'Interesting': 2, 'anecdote': 2, '18:01:52': 2, '22': 2, 'cshotton-180593125810': 2, 'aws': 2, 'Allen': 2, 'W.': 2, 'Sherzer': 2, 'staffer': 2, 'told': 2, 'me': 2, 'interesting': 2, 'story': 2, 'An': 2, 'costing': 2, 'looked': 2, 'called': 2, 'DC-X1': 2, 'BTW': 2, 'gave': 2, 'estimate': 2, '70M': 2, 'USAF': 2, '320': 2, 'million': 2, 'half': 2, 'times': 2, \"'d\": 2, 'willing': 2, 'bet': 2, 'majority': 2, 'difference': 2, 'accounted': 2, 'AF': 2, 'requirement': 2, 'superfluous': 2, '2167': 2, '5': 2, '6': 2, 'huge': 2, 'requirements': 2, 'design': 2, 'reviews': 2, 'travel': 2, 'expenses': 2, 'flying': 2, 'personnel': 2, 'meetings': 2, 'specifying': 2, 'doubt': 2, 'actual': 2, 'fabrication': 2, 'labor': 2, 'different': 2, 'costs': 2, 'cynical': 2, 'based': 2, 'procurement': 2, 'process': 2, 'cover': 2, 'lack': 2, 'creativity': 2, 'innovation': 2, 'reams': 2, 'cornell': 2, 'uw-beaver': 2, 'uhog.mit.edu': 2, 'enterpoop.mit.edu': 2, 'deccrl': 2, 'concert': 2, 'news-feed-1.peachnet.edu': 2, 'usenet.ins.cwru.edu': 2, 'magnus.acs.ohio-state.edu': 2, 'cis.ohio-state.edu': 2, 'news.sei.cmu.edu': 2, 'bb3.andrew.cmu.edu': 2, 'crabapple.srv.cs.cmu.edu': 2, 'Billsats': 2, 'C78ECz.AH2.1': 2, 'X-Added': 2, 'Forwarded': 2, 'Digest': 2, 'news+': 2, 'International': 2, 'Original-Sender': 2, 'isu': 2, 'VACATION.VENARI.CS.CMU.EDU': 2, 'sci': 2, 'Tue': 2, '16:40:11': 2, 'Approved': 2, 'bboard-news_gateway': 2, '29': 2, 'Jeffrey': 2, 'L.': 2, 'Cook': 2, 'object': 2, 'interfere': 2, 'enjoyment': 2, 'invisible': 2, 'nor': 2, 'significant': 2, 'astronomical': 2, 'suspect': 2, 'must': 2, 'underlying': 2, 'agenda': 2, 'surface': 2, 'spite': 2, 'quick': 2, 'shrilly': 2, 'denounce': 2, 'condemn': 2, 'vividly': 2, 'Lazlo': 2, 'Nibble': 2, 'Buying': 2, 'particularly': 2, 'attractive': 2, 'idea': 2, 'country': 2, 'reduced': 2, 'planetary': 2, 'equivalent': 2, 'guy': 2, 'gets': 2, 'penis': 2, 'Actually': 2, 'Capitalism': 2, 'depends': 2, 'mind': 2, 'fulfillment': 2, 'desires': 2, 'Mind': 2, 'saying': 2, '*no-one*': 2, 'benefit': 2, 'glassed-over': 2, 'actually': 2, 'pay': 2, 'unlike': 2, 'potential': 2, 'billsats': 2, 'quite': 2, 'follow': 2, 'part': 2, 'someone': 2, 'exposing': 2, 'genitals': 2, 'got': 2, 'chuckle': 2, 'had': 2, 'strange': 2, 'friends': 2, '-Tommy': 2, 'McWilliams': 2, '517-355-2178': 2, 'wk': 2, 'They': 2, 'communicated': 2, 'communists': 2, '18084tm': 2, 'ibm.cl.msu.edu': 2, '336-9591': 2, 'hm': 2, 'pacified': 2, 'pacifists': 2, '-TimBuk3': 2, 'sci.environment:30892': 2, 'misc.consumers:69409': 2, 'sci.astro:36226': 2, 'talk.environment:12372': 2, 'talk.politics.space:2933': 2, 'sci.space:62708': 2, 'rec.backcountry:32439': 2, 'sdd.hp.com': 2, 'Chris': 2, 'Best': 2, 'Boycott': 2, '19': 2, '17:27:59': 2, '14': 2, '1tdqmvINN3q2': 2, 'hp-col.col.hp.com': 2, '24.P022y43JM01': 2, 'JUTS.ccc.amdahl.com': 2, 'hpctdkz.col.hp.com': 2, 'According': 2, 'person': 2, 'talked': 2, 'resolve': 2, 'naked': 2, 'eye': 2, 'visually': 2, 'unimportant': 2, 'Anyway': 2, 'suggested': 2, 'visual': 2, 'approximate': 2, 'jumbo': 2, 'jet': 2, '45k': 2, 'feet': 2, '12km': 2, 'altitude': 2, 'Are': 2, 'did': 2, 'tailor': 2, 'comments': 2, 'according': 2, 'guessed': 2, 'hear': 2, 'words': 2, 'LIE': 2, 'Think': 2, 'advertiser': 2, 'nobody': 2, 'advertise': 2, 'companies': 2, 'Pretty': 2, 'narrow': 2, 'audience': 2, 'here': 2, 'sci.environment:30893': 2, 'misc.consumers:69410': 2, 'misc.invest:42838': 2, 'sci.astro:36227': 2, 'talk.environment:12373': 2, 'talk.politics.space:2934': 2, 'sci.space:62709': 2, 'rec.backcountry:32440': 2, 'misc.rural:6404': 2, 'misc.headlines:42335': 2, 'uchinews': 2, 'raistlin': 2, 'timbuk.cray.com': 2, 'equalizer': 2, 'sdcrsi': 2, 'Matt': 2, '16': 2, '21:57:53': 2, 'Institute': 2, 'For': 2, 'UCSD': 2, '34': 2, '1t6dd1': 2, '11v': 2, '1993May16.143120.2248': 2, 'X-Newsreader': 2, 'Tin': 2, '1.1': 2, 'PL3': 2, 'fcrary': 2, 'While': 2, 'Sagan': 2, 'considers': 2, 'sacrilegious': 2, 'doubtfull': 2, 'credibility': 2, 'astronomer': 2, 'Modern': 2, 'ground-based': 2, 'visible': 2, 'upset': 2, 'dying': 2, 'opacity': 2, 'distortions': 2, 'caused': 2, 'atmosphere': 2, 'itself': 2, 'driven': 2, 'radio': 2, 'infrared': 2, 'space-based': 2, 'Hardly': 2, 'Keck': 2, 'Hawaii': 2, 'pictures': 2, 'nearly': 2, 'Hubble': 2, 'tiny': 2, 'fraction': 2, 'passing': 2, 'through': 2, 'ruin': 2, 'existing': 2, 'satellites': 2, 'satelliets': 2, 'seem': 2, 'eyes': 2, 'concerned': 2, 'extremely': 2, 'believe': 2, 'junk': 2, 'FAR': 2, 'brighter': 2, 'still': 2, 'full': 2, 'upsets': 2, 'deep-sky': 2, 'observation': 2, 'looking': 2, 'scattered': 2, 'known': 2, 'two': 2, 'weeks': 2, 'OK.': 2, 'happens': 2, 'circles': 2, '90': 2, 'minutes': 2, 'time': 2, 'then': 2, 'CU': 2, 'Boulder': 2, '-Matt': 2, 'inls1.ucsd.edu': 2, '-Institute': 2, 'California': 2, 'San': 2, 'Diego': 2, 'AD': 2, 'Archive': 2, 'nonlinear': 2, 'dynamics': 2, 'papers': 2, 'programs': 2, 'FTP': 2, 'username': 2, 'anonymous': 2})\n"
     ]
    }
   ],
   "source": [
    "for path in tqdm_notebook(files, desc='Files', leave=True):\n",
    "    file = open(path, mode='r')\n",
    "    for line in file:\n",
    "        for word in nltk.word_tokenize(line):\n",
    "            counter[word] += 1\n",
    "print(counter)"
   ]
  },
  {
   "cell_type": "markdown",
   "metadata": {},
   "source": [
    "---"
   ]
  },
  {
   "cell_type": "markdown",
   "metadata": {},
   "source": [
    "То, что Вы реализовали выше, есть ни что иное, как простая реализация **bag-of-words (мешок слов)** для корпуса из 9 документов."
   ]
  },
  {
   "cell_type": "markdown",
   "metadata": {},
   "source": [
    "## Список материалов для самостоятельного изучения"
   ]
  },
  {
   "cell_type": "markdown",
   "metadata": {},
   "source": [
    "* *Сайт языка Python* - https://www.python.org/"
   ]
  },
  {
   "cell_type": "markdown",
   "metadata": {},
   "source": [
    "* *Курс Python с нуля, можно выполнять задания в интерактивном режиме* - http://pythontutor.ru/"
   ]
  },
  {
   "cell_type": "markdown",
   "metadata": {},
   "source": [
    "* *Новый онлайн-курс по Питону на Coursera от Mail.Ru Group* - https://www.coursera.org/learn/programming-in-python"
   ]
  },
  {
   "cell_type": "markdown",
   "metadata": {},
   "source": [
    "* *Самоучитель Python* - https://pythonworld.ru/samouchitel-python"
   ]
  },
  {
   "cell_type": "markdown",
   "metadata": {},
   "source": [
    "* *Статья про коварности Python* - https://habrahabr.ru/company/mailru/blog/337364/"
   ]
  },
  {
   "cell_type": "markdown",
   "metadata": {},
   "source": [
    "* *Очень полезные трюки в Jupyter Notebook*: https://www.dataquest.io/blog/jupyter-notebook-tips-tricks-shortcuts/"
   ]
  }
 ],
 "metadata": {
  "kernelspec": {
   "display_name": "Python 3",
   "language": "python",
   "name": "python3"
  },
  "language_info": {
   "codemirror_mode": {
    "name": "ipython",
    "version": 3
   },
   "file_extension": ".py",
   "mimetype": "text/x-python",
   "name": "python",
   "nbconvert_exporter": "python",
   "pygments_lexer": "ipython3",
   "version": "3.6.1"
  }
 },
 "nbformat": 4,
 "nbformat_minor": 2
}
